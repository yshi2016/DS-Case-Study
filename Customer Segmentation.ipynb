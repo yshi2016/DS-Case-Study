{
 "cells": [
  {
   "cell_type": "markdown",
   "metadata": {},
   "source": [
    "# Overview\n",
    "In this notebook, a Eurepean e-commerce dataset will be explored. Purchase patterns by customers will be visualized and analyzed and potential customer segments will be created using clustering algorithms.\n",
    "This notebook follows the dataset on Kaggle and procedures in [this wonderful notebook](https://www.kaggle.com/fabiendaniel/customer-segmentation) by F. Daniel.\n",
    "This notebook is a very basic analysis of the dataset."
   ]
  },
  {
   "cell_type": "markdown",
   "metadata": {},
   "source": [
    "## 1: Data Processing and Feature Engineering"
   ]
  },
  {
   "cell_type": "code",
   "execution_count": 216,
   "metadata": {},
   "outputs": [],
   "source": [
    "import numpy as np\n",
    "import pandas as pd\n",
    "import matplotlib.pyplot as plt\n",
    "import seaborn as sns"
   ]
  },
  {
   "cell_type": "code",
   "execution_count": 228,
   "metadata": {},
   "outputs": [
    {
     "data": {
      "text/html": [
       "<div>\n",
       "<style scoped>\n",
       "    .dataframe tbody tr th:only-of-type {\n",
       "        vertical-align: middle;\n",
       "    }\n",
       "\n",
       "    .dataframe tbody tr th {\n",
       "        vertical-align: top;\n",
       "    }\n",
       "\n",
       "    .dataframe thead th {\n",
       "        text-align: right;\n",
       "    }\n",
       "</style>\n",
       "<table border=\"1\" class=\"dataframe\">\n",
       "  <thead>\n",
       "    <tr style=\"text-align: right;\">\n",
       "      <th></th>\n",
       "      <th>InvoiceNo</th>\n",
       "      <th>StockCode</th>\n",
       "      <th>Description</th>\n",
       "      <th>Quantity</th>\n",
       "      <th>InvoiceDate</th>\n",
       "      <th>UnitPrice</th>\n",
       "      <th>CustomerID</th>\n",
       "      <th>Country</th>\n",
       "    </tr>\n",
       "  </thead>\n",
       "  <tbody>\n",
       "    <tr>\n",
       "      <th>0</th>\n",
       "      <td>536365</td>\n",
       "      <td>85123A</td>\n",
       "      <td>WHITE HANGING HEART T-LIGHT HOLDER</td>\n",
       "      <td>6</td>\n",
       "      <td>12/1/2010 8:26</td>\n",
       "      <td>2.55</td>\n",
       "      <td>17850.0</td>\n",
       "      <td>United Kingdom</td>\n",
       "    </tr>\n",
       "    <tr>\n",
       "      <th>1</th>\n",
       "      <td>536365</td>\n",
       "      <td>71053</td>\n",
       "      <td>WHITE METAL LANTERN</td>\n",
       "      <td>6</td>\n",
       "      <td>12/1/2010 8:26</td>\n",
       "      <td>3.39</td>\n",
       "      <td>17850.0</td>\n",
       "      <td>United Kingdom</td>\n",
       "    </tr>\n",
       "    <tr>\n",
       "      <th>2</th>\n",
       "      <td>536365</td>\n",
       "      <td>84406B</td>\n",
       "      <td>CREAM CUPID HEARTS COAT HANGER</td>\n",
       "      <td>8</td>\n",
       "      <td>12/1/2010 8:26</td>\n",
       "      <td>2.75</td>\n",
       "      <td>17850.0</td>\n",
       "      <td>United Kingdom</td>\n",
       "    </tr>\n",
       "    <tr>\n",
       "      <th>3</th>\n",
       "      <td>536365</td>\n",
       "      <td>84029G</td>\n",
       "      <td>KNITTED UNION FLAG HOT WATER BOTTLE</td>\n",
       "      <td>6</td>\n",
       "      <td>12/1/2010 8:26</td>\n",
       "      <td>3.39</td>\n",
       "      <td>17850.0</td>\n",
       "      <td>United Kingdom</td>\n",
       "    </tr>\n",
       "    <tr>\n",
       "      <th>4</th>\n",
       "      <td>536365</td>\n",
       "      <td>84029E</td>\n",
       "      <td>RED WOOLLY HOTTIE WHITE HEART.</td>\n",
       "      <td>6</td>\n",
       "      <td>12/1/2010 8:26</td>\n",
       "      <td>3.39</td>\n",
       "      <td>17850.0</td>\n",
       "      <td>United Kingdom</td>\n",
       "    </tr>\n",
       "  </tbody>\n",
       "</table>\n",
       "</div>"
      ],
      "text/plain": [
       "  InvoiceNo StockCode                          Description  Quantity  \\\n",
       "0    536365    85123A   WHITE HANGING HEART T-LIGHT HOLDER         6   \n",
       "1    536365     71053                  WHITE METAL LANTERN         6   \n",
       "2    536365    84406B       CREAM CUPID HEARTS COAT HANGER         8   \n",
       "3    536365    84029G  KNITTED UNION FLAG HOT WATER BOTTLE         6   \n",
       "4    536365    84029E       RED WOOLLY HOTTIE WHITE HEART.         6   \n",
       "\n",
       "      InvoiceDate  UnitPrice  CustomerID         Country  \n",
       "0  12/1/2010 8:26       2.55     17850.0  United Kingdom  \n",
       "1  12/1/2010 8:26       3.39     17850.0  United Kingdom  \n",
       "2  12/1/2010 8:26       2.75     17850.0  United Kingdom  \n",
       "3  12/1/2010 8:26       3.39     17850.0  United Kingdom  \n",
       "4  12/1/2010 8:26       3.39     17850.0  United Kingdom  "
      ]
     },
     "execution_count": 228,
     "metadata": {},
     "output_type": "execute_result"
    }
   ],
   "source": [
    "data = pd.read_csv(\"data.csv\",encoding=\"ISO-8859-1\")\n",
    "data.head()"
   ]
  },
  {
   "cell_type": "code",
   "execution_count": 229,
   "metadata": {},
   "outputs": [
    {
     "data": {
      "text/plain": [
       "InvoiceNo      0.000000\n",
       "StockCode      0.000000\n",
       "Description    0.002683\n",
       "Quantity       0.000000\n",
       "InvoiceDate    0.000000\n",
       "UnitPrice      0.000000\n",
       "CustomerID     0.249267\n",
       "Country        0.000000\n",
       "dtype: float64"
      ]
     },
     "execution_count": 229,
     "metadata": {},
     "output_type": "execute_result"
    }
   ],
   "source": [
    "data.isnull().mean() #many missing values in customer, some missing in descriptions"
   ]
  },
  {
   "cell_type": "code",
   "execution_count": 230,
   "metadata": {},
   "outputs": [
    {
     "data": {
      "text/plain": [
       "InvoiceNo      0.0\n",
       "StockCode      0.0\n",
       "Description    0.0\n",
       "Quantity       0.0\n",
       "InvoiceDate    0.0\n",
       "UnitPrice      0.0\n",
       "CustomerID     0.0\n",
       "Country        0.0\n",
       "dtype: float64"
      ]
     },
     "execution_count": 230,
     "metadata": {},
     "output_type": "execute_result"
    }
   ],
   "source": [
    "#drop rows with missing customers\n",
    "data = data[~data[\"CustomerID\"].isna()]\n",
    "data.isnull().mean()"
   ]
  },
  {
   "cell_type": "code",
   "execution_count": 231,
   "metadata": {},
   "outputs": [],
   "source": [
    "#According to the notebook by F. Daniel, it is also important to check for duplicates and remove them.\n",
    "data.duplicated().sum()\n",
    "data.drop_duplicates(inplace = True)"
   ]
  },
  {
   "cell_type": "markdown",
   "metadata": {},
   "source": [
    "**InvoiceNo**: Invoice number. Nominal, a 6-digit integral number uniquely assigned to each transaction. If this code starts with letter 'c', it indicates a cancellation.  <br>\n",
    "**StockCode**: Product (item) code. Nominal, a 5-digit integral number uniquely assigned to each distinct product. <br>\n",
    "**Description**: Product (item) name. Nominal. <br>\n",
    "**Quantity**: The quantities of each product (item) per transaction. Numeric.\t<br>\n",
    "**InvoiceDate**: Invice Date and time. Numeric, the day and time when each transaction was generated. <br>\n",
    "**UnitPrice**: Unit price. Numeric, Product price per unit in sterling. <br>\n",
    "**CustomerID**: Customer number. Nominal, a 5-digit integral number uniquely assigned to each customer. <br>\n",
    "**Country**: Country name. Nominal, the name of the country where each customer resides.<br>"
   ]
  },
  {
   "cell_type": "code",
   "execution_count": 232,
   "metadata": {},
   "outputs": [
    {
     "data": {
      "text/plain": [
       "InvoiceNo       object\n",
       "StockCode       object\n",
       "Description     object\n",
       "Quantity         int64\n",
       "InvoiceDate     object\n",
       "UnitPrice      float64\n",
       "CustomerID     float64\n",
       "Country         object\n",
       "dtype: object"
      ]
     },
     "execution_count": 232,
     "metadata": {},
     "output_type": "execute_result"
    }
   ],
   "source": [
    "data.dtypes #customer id should be a string, date should be a timestamp object"
   ]
  },
  {
   "cell_type": "code",
   "execution_count": 233,
   "metadata": {},
   "outputs": [],
   "source": [
    "data.loc[:,\"CustomerID\"] = data[\"CustomerID\"].astype(str)\n",
    "data.loc[:,\"InvoiceDate\"] = pd.to_datetime(data[\"InvoiceDate\"])"
   ]
  },
  {
   "cell_type": "code",
   "execution_count": 234,
   "metadata": {},
   "outputs": [
    {
     "data": {
      "image/png": "[encoded data removed]",
      "text/plain": [
       "<Figure size 1296x504 with 1 Axes>"
      ]
     },
     "metadata": {
      "needs_background": "light"
     },
     "output_type": "display_data"
    }
   ],
   "source": [
    "#how many countries except UK, which takes more than 35000 rows: major countries are Germany, France, EIRE\n",
    "fig = plt.figure(figsize=(18,7))\n",
    "i = 0.5\n",
    "g = sns.barplot(data[\"Country\"].value_counts().iloc[1:].index,data[\"Country\"].value_counts().iloc[1:])\n",
    "for p in g.patches:\n",
    "    g.annotate(int(p.get_height()), \n",
    "    (p.get_x() + p.get_width() / 2., p.get_height()), \n",
    "                   ha = 'center', va = 'center', \n",
    "                   xytext = (0, 9), \n",
    "                   textcoords = 'offset points')\n",
    "\n",
    "a = plt.xticks(rotation = 90)"
   ]
  },
  {
   "cell_type": "code",
   "execution_count": 235,
   "metadata": {},
   "outputs": [
    {
     "data": {
      "text/plain": [
       "4372"
      ]
     },
     "execution_count": 235,
     "metadata": {},
     "output_type": "execute_result"
    }
   ],
   "source": [
    "#4372 customers, with significanly different purchase frequencies\n",
    "len(data[\"CustomerID\"].value_counts())"
   ]
  },
  {
   "cell_type": "code",
   "execution_count": 236,
   "metadata": {},
   "outputs": [
    {
     "data": {
      "text/html": [
       "<div>\n",
       "<style scoped>\n",
       "    .dataframe tbody tr th:only-of-type {\n",
       "        vertical-align: middle;\n",
       "    }\n",
       "\n",
       "    .dataframe tbody tr th {\n",
       "        vertical-align: top;\n",
       "    }\n",
       "\n",
       "    .dataframe thead th {\n",
       "        text-align: right;\n",
       "    }\n",
       "</style>\n",
       "<table border=\"1\" class=\"dataframe\">\n",
       "  <thead>\n",
       "    <tr style=\"text-align: right;\">\n",
       "      <th></th>\n",
       "      <th>Description</th>\n",
       "      <th>Quantity</th>\n",
       "    </tr>\n",
       "    <tr>\n",
       "      <th>StockCode</th>\n",
       "      <th></th>\n",
       "      <th></th>\n",
       "    </tr>\n",
       "  </thead>\n",
       "  <tbody>\n",
       "    <tr>\n",
       "      <th>BANK CHARGES</th>\n",
       "      <td>Bank Charges</td>\n",
       "      <td>12</td>\n",
       "    </tr>\n",
       "    <tr>\n",
       "      <th>CRUK</th>\n",
       "      <td>CRUK Commission</td>\n",
       "      <td>16</td>\n",
       "    </tr>\n",
       "    <tr>\n",
       "      <th>D</th>\n",
       "      <td>Discount</td>\n",
       "      <td>77</td>\n",
       "    </tr>\n",
       "    <tr>\n",
       "      <th>DOT</th>\n",
       "      <td>DOTCOM POSTAGE</td>\n",
       "      <td>16</td>\n",
       "    </tr>\n",
       "    <tr>\n",
       "      <th>M</th>\n",
       "      <td>Manual</td>\n",
       "      <td>460</td>\n",
       "    </tr>\n",
       "    <tr>\n",
       "      <th>PADS</th>\n",
       "      <td>PADS TO MATCH ALL CUSHIONS</td>\n",
       "      <td>4</td>\n",
       "    </tr>\n",
       "    <tr>\n",
       "      <th>POST</th>\n",
       "      <td>POSTAGE</td>\n",
       "      <td>1196</td>\n",
       "    </tr>\n",
       "  </tbody>\n",
       "</table>\n",
       "</div>"
      ],
      "text/plain": [
       "                             Description  Quantity\n",
       "StockCode                                         \n",
       "BANK CHARGES                Bank Charges        12\n",
       "CRUK                     CRUK Commission        16\n",
       "D                               Discount        77\n",
       "DOT                       DOTCOM POSTAGE        16\n",
       "M                                 Manual       460\n",
       "PADS          PADS TO MATCH ALL CUSHIONS         4\n",
       "POST                             POSTAGE      1196"
      ]
     },
     "execution_count": 236,
     "metadata": {},
     "output_type": "execute_result"
    }
   ],
   "source": [
    "import re #check for special stock codes\n",
    "data[data[\"StockCode\"].apply(lambda x: not re.search(\"[0-9]\",x) )].groupby(\"StockCode\").agg({\"Description\":lambda x: x.iloc[0],\"Quantity\":len})"
   ]
  },
  {
   "cell_type": "code",
   "execution_count": 237,
   "metadata": {},
   "outputs": [],
   "source": [
    "#add cancelled column, discount column, remove commision and bank charges\n",
    "data = data[(data[\"StockCode\"]!=\"CRUK\")&(data[\"StockCode\"]!=\"BANK CHARGES\")]\n",
    "data.loc[:,\"cancelled\"] = data[\"InvoiceNo\"].str.startswith(\"C\").astype(int)\n",
    "data.loc[:,\"discount_used\"] = data[\"StockCode\"].apply(lambda x: x==\"D\").astype(int)"
   ]
  },
  {
   "cell_type": "code",
   "execution_count": 238,
   "metadata": {},
   "outputs": [
    {
     "data": {
      "text/html": [
       "<div>\n",
       "<style scoped>\n",
       "    .dataframe tbody tr th:only-of-type {\n",
       "        vertical-align: middle;\n",
       "    }\n",
       "\n",
       "    .dataframe tbody tr th {\n",
       "        vertical-align: top;\n",
       "    }\n",
       "\n",
       "    .dataframe thead th {\n",
       "        text-align: right;\n",
       "    }\n",
       "</style>\n",
       "<table border=\"1\" class=\"dataframe\">\n",
       "  <thead>\n",
       "    <tr style=\"text-align: right;\">\n",
       "      <th></th>\n",
       "      <th>InvoiceNo</th>\n",
       "      <th>StockCode</th>\n",
       "      <th>Description</th>\n",
       "      <th>Quantity</th>\n",
       "      <th>InvoiceDate</th>\n",
       "      <th>UnitPrice</th>\n",
       "      <th>CustomerID</th>\n",
       "      <th>Country</th>\n",
       "      <th>cancelled</th>\n",
       "      <th>discount_used</th>\n",
       "    </tr>\n",
       "  </thead>\n",
       "  <tbody>\n",
       "    <tr>\n",
       "      <th>141</th>\n",
       "      <td>C536379</td>\n",
       "      <td>D</td>\n",
       "      <td>Discount</td>\n",
       "      <td>-1</td>\n",
       "      <td>2010-12-01 09:41:00</td>\n",
       "      <td>27.50</td>\n",
       "      <td>14527.0</td>\n",
       "      <td>United Kingdom</td>\n",
       "      <td>1</td>\n",
       "      <td>1</td>\n",
       "    </tr>\n",
       "    <tr>\n",
       "      <th>154</th>\n",
       "      <td>C536383</td>\n",
       "      <td>35004C</td>\n",
       "      <td>SET OF 3 COLOURED  FLYING DUCKS</td>\n",
       "      <td>-1</td>\n",
       "      <td>2010-12-01 09:49:00</td>\n",
       "      <td>4.65</td>\n",
       "      <td>15311.0</td>\n",
       "      <td>United Kingdom</td>\n",
       "      <td>1</td>\n",
       "      <td>0</td>\n",
       "    </tr>\n",
       "    <tr>\n",
       "      <th>235</th>\n",
       "      <td>C536391</td>\n",
       "      <td>22556</td>\n",
       "      <td>PLASTERS IN TIN CIRCUS PARADE</td>\n",
       "      <td>-12</td>\n",
       "      <td>2010-12-01 10:24:00</td>\n",
       "      <td>1.65</td>\n",
       "      <td>17548.0</td>\n",
       "      <td>United Kingdom</td>\n",
       "      <td>1</td>\n",
       "      <td>0</td>\n",
       "    </tr>\n",
       "    <tr>\n",
       "      <th>236</th>\n",
       "      <td>C536391</td>\n",
       "      <td>21984</td>\n",
       "      <td>PACK OF 12 PINK PAISLEY TISSUES</td>\n",
       "      <td>-24</td>\n",
       "      <td>2010-12-01 10:24:00</td>\n",
       "      <td>0.29</td>\n",
       "      <td>17548.0</td>\n",
       "      <td>United Kingdom</td>\n",
       "      <td>1</td>\n",
       "      <td>0</td>\n",
       "    </tr>\n",
       "    <tr>\n",
       "      <th>237</th>\n",
       "      <td>C536391</td>\n",
       "      <td>21983</td>\n",
       "      <td>PACK OF 12 BLUE PAISLEY TISSUES</td>\n",
       "      <td>-24</td>\n",
       "      <td>2010-12-01 10:24:00</td>\n",
       "      <td>0.29</td>\n",
       "      <td>17548.0</td>\n",
       "      <td>United Kingdom</td>\n",
       "      <td>1</td>\n",
       "      <td>0</td>\n",
       "    </tr>\n",
       "  </tbody>\n",
       "</table>\n",
       "</div>"
      ],
      "text/plain": [
       "    InvoiceNo StockCode                       Description  Quantity  \\\n",
       "141   C536379         D                          Discount        -1   \n",
       "154   C536383    35004C   SET OF 3 COLOURED  FLYING DUCKS        -1   \n",
       "235   C536391     22556    PLASTERS IN TIN CIRCUS PARADE        -12   \n",
       "236   C536391     21984  PACK OF 12 PINK PAISLEY TISSUES        -24   \n",
       "237   C536391     21983  PACK OF 12 BLUE PAISLEY TISSUES        -24   \n",
       "\n",
       "            InvoiceDate  UnitPrice CustomerID         Country  cancelled  \\\n",
       "141 2010-12-01 09:41:00      27.50    14527.0  United Kingdom          1   \n",
       "154 2010-12-01 09:49:00       4.65    15311.0  United Kingdom          1   \n",
       "235 2010-12-01 10:24:00       1.65    17548.0  United Kingdom          1   \n",
       "236 2010-12-01 10:24:00       0.29    17548.0  United Kingdom          1   \n",
       "237 2010-12-01 10:24:00       0.29    17548.0  United Kingdom          1   \n",
       "\n",
       "     discount_used  \n",
       "141              1  \n",
       "154              0  \n",
       "235              0  \n",
       "236              0  \n",
       "237              0  "
      ]
     },
     "execution_count": 238,
     "metadata": {},
     "output_type": "execute_result"
    }
   ],
   "source": [
    "#cancelled transactions: notices D: discount\n",
    "canceled = data[data[\"InvoiceNo\"].str.startswith(\"C\")]\n",
    "canceled.head()"
   ]
  },
  {
   "cell_type": "markdown",
   "metadata": {},
   "source": [
    "There are instances of shorter Stock Code, some corresponds to discounts, bank charges, others seem like uncommon product. There are 1196 rows associated with postage."
   ]
  },
  {
   "cell_type": "code",
   "execution_count": 239,
   "metadata": {},
   "outputs": [
    {
     "data": {
      "text/plain": [
       "(3638, 8)"
      ]
     },
     "execution_count": 239,
     "metadata": {},
     "output_type": "execute_result"
    }
   ],
   "source": [
    "canceled.groupby([\"InvoiceNo\",\"CustomerID\"]).agg(len).shape\n",
    "#there are 3638 cancelled transactions/invoices after removing abnormal cancellations"
   ]
  },
  {
   "cell_type": "markdown",
   "metadata": {},
   "source": [
    "There are several additional features we can compute based on the existing features, such as the total amount of each row and each transaction by one customer."
   ]
  },
  {
   "cell_type": "code",
   "execution_count": 240,
   "metadata": {},
   "outputs": [],
   "source": [
    "#number of products per transaction by customer and invoice\n",
    "#amount of transaction\n",
    "#number of cancellation\n",
    "\n",
    "#total amount each row\n",
    "data.loc[:,\"product_amount\"] = data[\"Quantity\"]*data[\"UnitPrice\"]"
   ]
  },
  {
   "cell_type": "code",
   "execution_count": 241,
   "metadata": {},
   "outputs": [
    {
     "data": {
      "text/plain": [
       "'CARRIAGE'"
      ]
     },
     "execution_count": 241,
     "metadata": {},
     "output_type": "execute_result"
    }
   ],
   "source": [
    "most_freq_cat(data[data[\"CustomerID\"]==\"14911.0\"][\"Description\"])"
   ]
  },
  {
   "cell_type": "code",
   "execution_count": 242,
   "metadata": {},
   "outputs": [
    {
     "name": "stderr",
     "output_type": "stream",
     "text": [
      "[nltk_data] Downloading package averaged_perceptron_tagger to\n",
      "[nltk_data]     /Users/simons/nltk_data...\n",
      "[nltk_data]   Package averaged_perceptron_tagger is already up-to-\n",
      "[nltk_data]       date!\n"
     ]
    }
   ],
   "source": [
    "#define a function that takes in all unique descriptions a customer bought in a transaction in a list\n",
    "import nltk\n",
    "nltk.download('averaged_perceptron_tagger')\n",
    "import collections"
   ]
  },
  {
   "cell_type": "code",
   "execution_count": 243,
   "metadata": {},
   "outputs": [],
   "source": [
    "#most frequent items\n",
    "def most_freq_cat(x):\n",
    "    d = collections.Counter(x)\n",
    "    sorted_d = dict(sorted(d.items(), key=lambda item: item[1],reverse=True))\n",
    "    return list(sorted_d.keys())[0]\n",
    "def most_freq_count(x):\n",
    "    d = collections.Counter(x)\n",
    "    sorted_d = dict(sorted(d.items(), key=lambda item: item[1],reverse=True))\n",
    "    return list(sorted_d.values())[0]"
   ]
  },
  {
   "cell_type": "code",
   "execution_count": 244,
   "metadata": {},
   "outputs": [
    {
     "data": {
      "text/html": [
       "<div>\n",
       "<style scoped>\n",
       "    .dataframe tbody tr th:only-of-type {\n",
       "        vertical-align: middle;\n",
       "    }\n",
       "\n",
       "    .dataframe tbody tr th {\n",
       "        vertical-align: top;\n",
       "    }\n",
       "\n",
       "    .dataframe thead th {\n",
       "        text-align: right;\n",
       "    }\n",
       "</style>\n",
       "<table border=\"1\" class=\"dataframe\">\n",
       "  <thead>\n",
       "    <tr style=\"text-align: right;\">\n",
       "      <th></th>\n",
       "      <th>InvoiceNo</th>\n",
       "      <th>CustomerID</th>\n",
       "      <th>Description</th>\n",
       "      <th>Quantity</th>\n",
       "      <th>product_amount</th>\n",
       "      <th>cancelled</th>\n",
       "      <th>discount_used</th>\n",
       "      <th>Country</th>\n",
       "      <th>Most Freq Count</th>\n",
       "    </tr>\n",
       "  </thead>\n",
       "  <tbody>\n",
       "    <tr>\n",
       "      <th>0</th>\n",
       "      <td>536365</td>\n",
       "      <td>17850.0</td>\n",
       "      <td>WHITE HANGING HEART T-LIGHT HOLDERWHITE METAL ...</td>\n",
       "      <td>40</td>\n",
       "      <td>139.12</td>\n",
       "      <td>0</td>\n",
       "      <td>0</td>\n",
       "      <td>United Kingdom</td>\n",
       "      <td>WHITE HANGING HEART T-LIGHT HOLDER</td>\n",
       "    </tr>\n",
       "    <tr>\n",
       "      <th>1</th>\n",
       "      <td>536366</td>\n",
       "      <td>17850.0</td>\n",
       "      <td>HAND WARMER UNION JACKHAND WARMER RED POLKA DOT</td>\n",
       "      <td>12</td>\n",
       "      <td>22.20</td>\n",
       "      <td>0</td>\n",
       "      <td>0</td>\n",
       "      <td>United Kingdom</td>\n",
       "      <td>WHITE METAL LANTERN</td>\n",
       "    </tr>\n",
       "    <tr>\n",
       "      <th>2</th>\n",
       "      <td>536367</td>\n",
       "      <td>13047.0</td>\n",
       "      <td>ASSORTED COLOUR BIRD ORNAMENTPOPPY'S PLAYHOUSE...</td>\n",
       "      <td>83</td>\n",
       "      <td>278.73</td>\n",
       "      <td>0</td>\n",
       "      <td>0</td>\n",
       "      <td>United Kingdom</td>\n",
       "      <td>CREAM CUPID HEARTS COAT HANGER</td>\n",
       "    </tr>\n",
       "    <tr>\n",
       "      <th>3</th>\n",
       "      <td>536368</td>\n",
       "      <td>13047.0</td>\n",
       "      <td>JAM MAKING SET WITH JARSRED COAT RACK PARIS FA...</td>\n",
       "      <td>15</td>\n",
       "      <td>70.05</td>\n",
       "      <td>0</td>\n",
       "      <td>0</td>\n",
       "      <td>United Kingdom</td>\n",
       "      <td>KNITTED UNION FLAG HOT WATER BOTTLE</td>\n",
       "    </tr>\n",
       "    <tr>\n",
       "      <th>4</th>\n",
       "      <td>536369</td>\n",
       "      <td>13047.0</td>\n",
       "      <td>BATH BUILDING BLOCK WORD</td>\n",
       "      <td>3</td>\n",
       "      <td>17.85</td>\n",
       "      <td>0</td>\n",
       "      <td>0</td>\n",
       "      <td>United Kingdom</td>\n",
       "      <td>RED WOOLLY HOTTIE WHITE HEART.</td>\n",
       "    </tr>\n",
       "  </tbody>\n",
       "</table>\n",
       "</div>"
      ],
      "text/plain": [
       "  InvoiceNo CustomerID                                        Description  \\\n",
       "0    536365    17850.0  WHITE HANGING HEART T-LIGHT HOLDERWHITE METAL ...   \n",
       "1    536366    17850.0    HAND WARMER UNION JACKHAND WARMER RED POLKA DOT   \n",
       "2    536367    13047.0  ASSORTED COLOUR BIRD ORNAMENTPOPPY'S PLAYHOUSE...   \n",
       "3    536368    13047.0  JAM MAKING SET WITH JARSRED COAT RACK PARIS FA...   \n",
       "4    536369    13047.0                           BATH BUILDING BLOCK WORD   \n",
       "\n",
       "   Quantity  product_amount  cancelled  discount_used         Country  \\\n",
       "0        40          139.12          0              0  United Kingdom   \n",
       "1        12           22.20          0              0  United Kingdom   \n",
       "2        83          278.73          0              0  United Kingdom   \n",
       "3        15           70.05          0              0  United Kingdom   \n",
       "4         3           17.85          0              0  United Kingdom   \n",
       "\n",
       "                       Most Freq Count  \n",
       "0   WHITE HANGING HEART T-LIGHT HOLDER  \n",
       "1                  WHITE METAL LANTERN  \n",
       "2       CREAM CUPID HEARTS COAT HANGER  \n",
       "3  KNITTED UNION FLAG HOT WATER BOTTLE  \n",
       "4       RED WOOLLY HOTTIE WHITE HEART.  "
      ]
     },
     "execution_count": 244,
     "metadata": {},
     "output_type": "execute_result"
    }
   ],
   "source": [
    "#number of invoices: 22190, same customer with multiple invoices, each time with different purchase quantity\n",
    "by_inv = data.groupby([\"InvoiceNo\"]).agg({\"CustomerID\":lambda x:x.iloc[0],\"Description\":sum,\n",
    "                                          \"Quantity\":sum,\"product_amount\":sum,\"cancelled\":lambda x:x.iloc[0],\n",
    "                                         \"discount_used\":lambda x:x.iloc[0],\n",
    "                                        \"Country\":lambda x:x.iloc[0]}).reset_index()\n",
    "by_inv.loc[:,\"Most Freq Count\"] = data[\"Description\"]\n",
    "by_inv.head()"
   ]
  },
  {
   "cell_type": "code",
   "execution_count": 245,
   "metadata": {},
   "outputs": [],
   "source": [
    "customer_purchase = by_inv.groupby(\"CustomerID\").agg({\"Description\":lambda x: most_freq_cat(x),\n",
    "                                                      \"Most Freq Count\":lambda x: most_freq_count(x),\n",
    "                                                      \"Quantity\":sum,\"product_amount\":sum,\n",
    "                                                      \"cancelled\":sum,\"discount_used\":sum,\"InvoiceNo\":len,\n",
    "                                                     \"Country\":lambda x:x.iloc[0]}).reset_index()"
   ]
  },
  {
   "cell_type": "code",
   "execution_count": 246,
   "metadata": {},
   "outputs": [
    {
     "data": {
      "text/html": [
       "<div>\n",
       "<style scoped>\n",
       "    .dataframe tbody tr th:only-of-type {\n",
       "        vertical-align: middle;\n",
       "    }\n",
       "\n",
       "    .dataframe tbody tr th {\n",
       "        vertical-align: top;\n",
       "    }\n",
       "\n",
       "    .dataframe thead th {\n",
       "        text-align: right;\n",
       "    }\n",
       "</style>\n",
       "<table border=\"1\" class=\"dataframe\">\n",
       "  <thead>\n",
       "    <tr style=\"text-align: right;\">\n",
       "      <th></th>\n",
       "      <th>CustomerID</th>\n",
       "      <th>Most Freq Prod</th>\n",
       "      <th>Most Freq Count</th>\n",
       "      <th>Quantity</th>\n",
       "      <th>product_amount</th>\n",
       "      <th>cancelled</th>\n",
       "      <th>discount_used</th>\n",
       "      <th>num_invoices</th>\n",
       "      <th>Country</th>\n",
       "      <th>amount per invoice</th>\n",
       "    </tr>\n",
       "  </thead>\n",
       "  <tbody>\n",
       "    <tr>\n",
       "      <th>1895</th>\n",
       "      <td>14911.0</td>\n",
       "      <td>JAM MAKING SET PRINTED</td>\n",
       "      <td>92</td>\n",
       "      <td>77155</td>\n",
       "      <td>132458.73</td>\n",
       "      <td>47</td>\n",
       "      <td>1</td>\n",
       "      <td>248</td>\n",
       "      <td>EIRE</td>\n",
       "      <td>534.107782</td>\n",
       "    </tr>\n",
       "    <tr>\n",
       "      <th>330</th>\n",
       "      <td>12748.0</td>\n",
       "      <td>Manual</td>\n",
       "      <td>80</td>\n",
       "      <td>23750</td>\n",
       "      <td>28405.56</td>\n",
       "      <td>14</td>\n",
       "      <td>0</td>\n",
       "      <td>224</td>\n",
       "      <td>United Kingdom</td>\n",
       "      <td>126.810536</td>\n",
       "    </tr>\n",
       "    <tr>\n",
       "      <th>4042</th>\n",
       "      <td>17841.0</td>\n",
       "      <td>SKULLS AND CROSSBONES WRAPPOLYESTER FILLER PAD...</td>\n",
       "      <td>65</td>\n",
       "      <td>22628</td>\n",
       "      <td>39869.05</td>\n",
       "      <td>45</td>\n",
       "      <td>0</td>\n",
       "      <td>169</td>\n",
       "      <td>United Kingdom</td>\n",
       "      <td>235.911538</td>\n",
       "    </tr>\n",
       "    <tr>\n",
       "      <th>1674</th>\n",
       "      <td>14606.0</td>\n",
       "      <td>HEART DECORATION WITH PEARLS FRENCH ENAMEL POT...</td>\n",
       "      <td>48</td>\n",
       "      <td>5940</td>\n",
       "      <td>11618.35</td>\n",
       "      <td>35</td>\n",
       "      <td>0</td>\n",
       "      <td>127</td>\n",
       "      <td>United Kingdom</td>\n",
       "      <td>91.483071</td>\n",
       "    </tr>\n",
       "    <tr>\n",
       "      <th>568</th>\n",
       "      <td>13089.0</td>\n",
       "      <td>REGENCY CAKESTAND 3 TIER</td>\n",
       "      <td>35</td>\n",
       "      <td>30742</td>\n",
       "      <td>57322.13</td>\n",
       "      <td>21</td>\n",
       "      <td>0</td>\n",
       "      <td>118</td>\n",
       "      <td>United Kingdom</td>\n",
       "      <td>485.780763</td>\n",
       "    </tr>\n",
       "  </tbody>\n",
       "</table>\n",
       "</div>"
      ],
      "text/plain": [
       "     CustomerID                                     Most Freq Prod  \\\n",
       "1895    14911.0                             JAM MAKING SET PRINTED   \n",
       "330     12748.0                                             Manual   \n",
       "4042    17841.0  SKULLS AND CROSSBONES WRAPPOLYESTER FILLER PAD...   \n",
       "1674    14606.0  HEART DECORATION WITH PEARLS FRENCH ENAMEL POT...   \n",
       "568     13089.0                           REGENCY CAKESTAND 3 TIER   \n",
       "\n",
       "      Most Freq Count  Quantity  product_amount  cancelled  discount_used  \\\n",
       "1895               92     77155       132458.73         47              1   \n",
       "330                80     23750        28405.56         14              0   \n",
       "4042               65     22628        39869.05         45              0   \n",
       "1674               48      5940        11618.35         35              0   \n",
       "568                35     30742        57322.13         21              0   \n",
       "\n",
       "      num_invoices         Country  amount per invoice  \n",
       "1895           248            EIRE          534.107782  \n",
       "330            224  United Kingdom          126.810536  \n",
       "4042           169  United Kingdom          235.911538  \n",
       "1674           127  United Kingdom           91.483071  \n",
       "568            118  United Kingdom          485.780763  "
      ]
     },
     "execution_count": 246,
     "metadata": {},
     "output_type": "execute_result"
    }
   ],
   "source": [
    "#customer 14911 has the most number of transactions\n",
    "#customer = by_inv.groupby(\"CustomerID\").size().sort_values(ascending=False).to_frame().reset_index()\n",
    "customer = customer_purchase.rename(columns = {\"InvoiceNo\":\"num_invoices\",\"Description\":\"Most Freq Prod\"})\n",
    "#customer = pd.merge(customer, customer_purchase,on=\"CustomerID\")\n",
    "customer.loc[:,\"amount per invoice\"] = customer[\"product_amount\"]/customer[\"num_invoices\"]\n",
    "customer.sort_values(\"num_invoices\",ascending=False).head()"
   ]
  },
  {
   "cell_type": "code",
   "execution_count": 247,
   "metadata": {},
   "outputs": [
    {
     "data": {
      "text/html": [
       "<div>\n",
       "<style scoped>\n",
       "    .dataframe tbody tr th:only-of-type {\n",
       "        vertical-align: middle;\n",
       "    }\n",
       "\n",
       "    .dataframe tbody tr th {\n",
       "        vertical-align: top;\n",
       "    }\n",
       "\n",
       "    .dataframe thead th {\n",
       "        text-align: right;\n",
       "    }\n",
       "</style>\n",
       "<table border=\"1\" class=\"dataframe\">\n",
       "  <thead>\n",
       "    <tr style=\"text-align: right;\">\n",
       "      <th></th>\n",
       "      <th>CustomerID</th>\n",
       "      <th>Most Freq Prod</th>\n",
       "      <th>Most Freq Count</th>\n",
       "      <th>Quantity</th>\n",
       "      <th>product_amount</th>\n",
       "      <th>cancelled</th>\n",
       "      <th>discount_used</th>\n",
       "      <th>num_invoices</th>\n",
       "      <th>Country</th>\n",
       "      <th>amount per invoice</th>\n",
       "    </tr>\n",
       "  </thead>\n",
       "  <tbody>\n",
       "    <tr>\n",
       "      <th>4048</th>\n",
       "      <td>17850.0</td>\n",
       "      <td>HAND WARMER RED POLKA DOTHAND WARMER UNION JACK</td>\n",
       "      <td>2</td>\n",
       "      <td>1696</td>\n",
       "      <td>5303.48</td>\n",
       "      <td>1</td>\n",
       "      <td>0</td>\n",
       "      <td>35</td>\n",
       "      <td>United Kingdom</td>\n",
       "      <td>151.528</td>\n",
       "    </tr>\n",
       "  </tbody>\n",
       "</table>\n",
       "</div>"
      ],
      "text/plain": [
       "     CustomerID                                   Most Freq Prod  \\\n",
       "4048    17850.0  HAND WARMER RED POLKA DOTHAND WARMER UNION JACK   \n",
       "\n",
       "      Most Freq Count  Quantity  product_amount  cancelled  discount_used  \\\n",
       "4048                2      1696         5303.48          1              0   \n",
       "\n",
       "      num_invoices         Country  amount per invoice  \n",
       "4048            35  United Kingdom             151.528  "
      ]
     },
     "execution_count": 247,
     "metadata": {},
     "output_type": "execute_result"
    }
   ],
   "source": [
    "customer[customer[\"CustomerID\"]==\"17850.0\"]"
   ]
  },
  {
   "cell_type": "code",
   "execution_count": 248,
   "metadata": {},
   "outputs": [
    {
     "data": {
      "text/plain": [
       "Manual                                37\n",
       "POSTAGE                               12\n",
       "REGENCY CAKESTAND 3 TIER               9\n",
       "JUMBO BAG RED RETROSPOT                6\n",
       "WHITE HANGING HEART T-LIGHT HOLDER     6\n",
       "Name: Most Freq Prod, dtype: int64"
      ]
     },
     "execution_count": 248,
     "metadata": {},
     "output_type": "execute_result"
    }
   ],
   "source": [
    "#37 customers buy Manual most frequently\n",
    "customer[\"Most Freq Prod\"].value_counts().head(5)"
   ]
  },
  {
   "cell_type": "code",
   "execution_count": 249,
   "metadata": {},
   "outputs": [
    {
     "data": {
      "text/html": [
       "<div>\n",
       "<style scoped>\n",
       "    .dataframe tbody tr th:only-of-type {\n",
       "        vertical-align: middle;\n",
       "    }\n",
       "\n",
       "    .dataframe tbody tr th {\n",
       "        vertical-align: top;\n",
       "    }\n",
       "\n",
       "    .dataframe thead th {\n",
       "        text-align: right;\n",
       "    }\n",
       "</style>\n",
       "<table border=\"1\" class=\"dataframe\">\n",
       "  <thead>\n",
       "    <tr style=\"text-align: right;\">\n",
       "      <th></th>\n",
       "      <th>CustomerID</th>\n",
       "      <th>Most Freq Prod</th>\n",
       "      <th>Most Freq Count</th>\n",
       "      <th>Quantity</th>\n",
       "      <th>product_amount</th>\n",
       "      <th>cancelled</th>\n",
       "      <th>discount_used</th>\n",
       "      <th>num_invoices</th>\n",
       "      <th>Country</th>\n",
       "      <th>amount per invoice</th>\n",
       "    </tr>\n",
       "  </thead>\n",
       "  <tbody>\n",
       "    <tr>\n",
       "      <th>1615</th>\n",
       "      <td>14527.0</td>\n",
       "      <td>Discount</td>\n",
       "      <td>36</td>\n",
       "      <td>2048</td>\n",
       "      <td>7709.69</td>\n",
       "      <td>31</td>\n",
       "      <td>28</td>\n",
       "      <td>86</td>\n",
       "      <td>United Kingdom</td>\n",
       "      <td>89.647558</td>\n",
       "    </tr>\n",
       "    <tr>\n",
       "      <th>2722</th>\n",
       "      <td>16029.0</td>\n",
       "      <td>Discount</td>\n",
       "      <td>27</td>\n",
       "      <td>33632</td>\n",
       "      <td>53168.69</td>\n",
       "      <td>13</td>\n",
       "      <td>6</td>\n",
       "      <td>76</td>\n",
       "      <td>United Kingdom</td>\n",
       "      <td>699.588026</td>\n",
       "    </tr>\n",
       "    <tr>\n",
       "      <th>803</th>\n",
       "      <td>13408.0</td>\n",
       "      <td>CLASSIC GLASS COOKIE JAR</td>\n",
       "      <td>27</td>\n",
       "      <td>16119</td>\n",
       "      <td>27487.41</td>\n",
       "      <td>19</td>\n",
       "      <td>4</td>\n",
       "      <td>81</td>\n",
       "      <td>United Kingdom</td>\n",
       "      <td>339.350741</td>\n",
       "    </tr>\n",
       "    <tr>\n",
       "      <th>2329</th>\n",
       "      <td>15498.0</td>\n",
       "      <td>Discount</td>\n",
       "      <td>9</td>\n",
       "      <td>6084</td>\n",
       "      <td>12396.46</td>\n",
       "      <td>8</td>\n",
       "      <td>3</td>\n",
       "      <td>35</td>\n",
       "      <td>United Kingdom</td>\n",
       "      <td>354.184571</td>\n",
       "    </tr>\n",
       "    <tr>\n",
       "      <th>3014</th>\n",
       "      <td>16422.0</td>\n",
       "      <td>Manual</td>\n",
       "      <td>23</td>\n",
       "      <td>32592</td>\n",
       "      <td>33805.69</td>\n",
       "      <td>24</td>\n",
       "      <td>3</td>\n",
       "      <td>75</td>\n",
       "      <td>United Kingdom</td>\n",
       "      <td>450.742533</td>\n",
       "    </tr>\n",
       "  </tbody>\n",
       "</table>\n",
       "</div>"
      ],
      "text/plain": [
       "     CustomerID            Most Freq Prod  Most Freq Count  Quantity  \\\n",
       "1615    14527.0                  Discount               36      2048   \n",
       "2722    16029.0                  Discount               27     33632   \n",
       "803     13408.0  CLASSIC GLASS COOKIE JAR               27     16119   \n",
       "2329    15498.0                  Discount                9      6084   \n",
       "3014    16422.0                    Manual               23     32592   \n",
       "\n",
       "      product_amount  cancelled  discount_used  num_invoices         Country  \\\n",
       "1615         7709.69         31             28            86  United Kingdom   \n",
       "2722        53168.69         13              6            76  United Kingdom   \n",
       "803         27487.41         19              4            81  United Kingdom   \n",
       "2329        12396.46          8              3            35  United Kingdom   \n",
       "3014        33805.69         24              3            75  United Kingdom   \n",
       "\n",
       "      amount per invoice  \n",
       "1615           89.647558  \n",
       "2722          699.588026  \n",
       "803           339.350741  \n",
       "2329          354.184571  \n",
       "3014          450.742533  "
      ]
     },
     "execution_count": 249,
     "metadata": {},
     "output_type": "execute_result"
    }
   ],
   "source": [
    "customer.sort_values(\"discount_used\",ascending=False).head()"
   ]
  },
  {
   "cell_type": "code",
   "execution_count": 250,
   "metadata": {},
   "outputs": [],
   "source": [
    "customer.loc[:,\"most_freq_count_per_inv\"] = customer[\"Most Freq Count\"]/customer[\"num_invoices\"]"
   ]
  },
  {
   "cell_type": "markdown",
   "metadata": {},
   "source": [
    "Most freq count is the number of items across all invoices, there can be multiple discounts within one invoice, that is why most frequent count is not equal to the number of invoices that use discount. We will use this column for identifying patterns among different customers."
   ]
  },
  {
   "cell_type": "code",
   "execution_count": 251,
   "metadata": {},
   "outputs": [],
   "source": [
    "#There are 65 invoices denoting discount\n",
    "#data[data[\"Description\"]==\"Discount\"].groupby(\"InvoiceNo\").size()"
   ]
  },
  {
   "cell_type": "code",
   "execution_count": 252,
   "metadata": {},
   "outputs": [],
   "source": [
    "#word matrix "
   ]
  },
  {
   "cell_type": "markdown",
   "metadata": {},
   "source": [
    "## 2. EDA\n",
    "- Distribution of customers across countries\n",
    "- Number of invoices across countries\n",
    "- Discount used across countries\n",
    "- Distribution of discounts"
   ]
  },
  {
   "cell_type": "code",
   "execution_count": 253,
   "metadata": {},
   "outputs": [
    {
     "data": {
      "text/plain": [
       "<AxesSubplot:xlabel='num_invoices'>"
      ]
     },
     "execution_count": 253,
     "metadata": {},
     "output_type": "execute_result"
    },
    {
     "data": {
      "image/png": "[encoded data removed]",
      "text/plain": [
       "<Figure size 720x432 with 1 Axes>"
      ]
     },
     "metadata": {
      "needs_background": "light"
     },
     "output_type": "display_data"
    }
   ],
   "source": [
    "plt.figure(figsize=(10,6))\n",
    "sns.distplot(customer[\"num_invoices\"])"
   ]
  },
  {
   "cell_type": "code",
   "execution_count": 254,
   "metadata": {},
   "outputs": [
    {
     "data": {
      "text/plain": [
       "<AxesSubplot:xlabel='cancelled'>"
      ]
     },
     "execution_count": 254,
     "metadata": {},
     "output_type": "execute_result"
    },
    {
     "data": {
      "image/png": "[encoded data removed]",
      "text/plain": [
       "<Figure size 720x432 with 1 Axes>"
      ]
     },
     "metadata": {
      "needs_background": "light"
     },
     "output_type": "display_data"
    }
   ],
   "source": [
    "#distribution of cancelled order is skewed\n",
    "plt.figure(figsize=(10,6))\n",
    "sns.distplot(customer[\"cancelled\"])"
   ]
  },
  {
   "cell_type": "code",
   "execution_count": 255,
   "metadata": {},
   "outputs": [
    {
     "data": {
      "image/png": "[encoded data removed]",
      "text/plain": [
       "<Figure size 720x360 with 1 Axes>"
      ]
     },
     "metadata": {
      "needs_background": "light"
     },
     "output_type": "display_data"
    }
   ],
   "source": [
    "#Most customers from UK\n",
    "plt.figure(figsize=(10,5))\n",
    "sns.barplot(customer[\"Country\"].value_counts().index,customer[\"Country\"].value_counts())\n",
    "a = plt.xticks(rotation=90)"
   ]
  },
  {
   "cell_type": "code",
   "execution_count": 256,
   "metadata": {},
   "outputs": [
    {
     "data": {
      "image/png": "[encoded data removed]",
      "text/plain": [
       "<Figure size 720x360 with 1 Axes>"
      ]
     },
     "metadata": {
      "needs_background": "light"
     },
     "output_type": "display_data"
    }
   ],
   "source": [
    "#only 3 data points for customers in EIRE\n",
    "plt.figure(figsize=(10,5))\n",
    "sns.boxplot(\"Country\",\"num_invoices\",data=customer)\n",
    "a = plt.xticks(rotation=90)"
   ]
  },
  {
   "cell_type": "code",
   "execution_count": 273,
   "metadata": {},
   "outputs": [
    {
     "data": {
      "text/html": [
       "<div>\n",
       "<style scoped>\n",
       "    .dataframe tbody tr th:only-of-type {\n",
       "        vertical-align: middle;\n",
       "    }\n",
       "\n",
       "    .dataframe tbody tr th {\n",
       "        vertical-align: top;\n",
       "    }\n",
       "\n",
       "    .dataframe thead th {\n",
       "        text-align: right;\n",
       "    }\n",
       "</style>\n",
       "<table border=\"1\" class=\"dataframe\">\n",
       "  <thead>\n",
       "    <tr style=\"text-align: right;\">\n",
       "      <th></th>\n",
       "      <th>CustomerID</th>\n",
       "      <th>Most Freq Prod</th>\n",
       "      <th>Most Freq Count</th>\n",
       "      <th>Quantity</th>\n",
       "      <th>product_amount</th>\n",
       "      <th>cancelled</th>\n",
       "      <th>discount_used</th>\n",
       "      <th>num_invoices</th>\n",
       "      <th>Country</th>\n",
       "      <th>amount per invoice</th>\n",
       "      <th>most_freq_count_per_inv</th>\n",
       "      <th>avg cancelled per invoice</th>\n",
       "      <th>avg discount per invoice</th>\n",
       "      <th>cluster</th>\n",
       "    </tr>\n",
       "  </thead>\n",
       "  <tbody>\n",
       "    <tr>\n",
       "      <th>1241</th>\n",
       "      <td>14016.0</td>\n",
       "      <td>JAM JAR WITH PINK LIDJAM JAR WITH GREEN LIDJAM...</td>\n",
       "      <td>1</td>\n",
       "      <td>2124</td>\n",
       "      <td>4328.46</td>\n",
       "      <td>1</td>\n",
       "      <td>0</td>\n",
       "      <td>5</td>\n",
       "      <td>EIRE</td>\n",
       "      <td>865.692000</td>\n",
       "      <td>0.200000</td>\n",
       "      <td>0.200000</td>\n",
       "      <td>0.000000</td>\n",
       "      <td>1</td>\n",
       "    </tr>\n",
       "    <tr>\n",
       "      <th>1345</th>\n",
       "      <td>14156.0</td>\n",
       "      <td>BAKING MOULD ROSE WHITE CHOCOLATEBAKING MOULD ...</td>\n",
       "      <td>22</td>\n",
       "      <td>56908</td>\n",
       "      <td>113214.59</td>\n",
       "      <td>11</td>\n",
       "      <td>0</td>\n",
       "      <td>66</td>\n",
       "      <td>EIRE</td>\n",
       "      <td>1715.372576</td>\n",
       "      <td>0.333333</td>\n",
       "      <td>0.166667</td>\n",
       "      <td>0.000000</td>\n",
       "      <td>3</td>\n",
       "    </tr>\n",
       "    <tr>\n",
       "      <th>1895</th>\n",
       "      <td>14911.0</td>\n",
       "      <td>JAM MAKING SET PRINTED</td>\n",
       "      <td>92</td>\n",
       "      <td>77155</td>\n",
       "      <td>132458.73</td>\n",
       "      <td>47</td>\n",
       "      <td>1</td>\n",
       "      <td>248</td>\n",
       "      <td>EIRE</td>\n",
       "      <td>534.107782</td>\n",
       "      <td>0.370968</td>\n",
       "      <td>0.189516</td>\n",
       "      <td>0.004032</td>\n",
       "      <td>3</td>\n",
       "    </tr>\n",
       "  </tbody>\n",
       "</table>\n",
       "</div>"
      ],
      "text/plain": [
       "     CustomerID                                     Most Freq Prod  \\\n",
       "1241    14016.0  JAM JAR WITH PINK LIDJAM JAR WITH GREEN LIDJAM...   \n",
       "1345    14156.0  BAKING MOULD ROSE WHITE CHOCOLATEBAKING MOULD ...   \n",
       "1895    14911.0                             JAM MAKING SET PRINTED   \n",
       "\n",
       "      Most Freq Count  Quantity  product_amount  cancelled  discount_used  \\\n",
       "1241                1      2124         4328.46          1              0   \n",
       "1345               22     56908       113214.59         11              0   \n",
       "1895               92     77155       132458.73         47              1   \n",
       "\n",
       "      num_invoices Country  amount per invoice  most_freq_count_per_inv  \\\n",
       "1241             5    EIRE          865.692000                 0.200000   \n",
       "1345            66    EIRE         1715.372576                 0.333333   \n",
       "1895           248    EIRE          534.107782                 0.370968   \n",
       "\n",
       "      avg cancelled per invoice  avg discount per invoice  cluster  \n",
       "1241                   0.200000                  0.000000        1  \n",
       "1345                   0.166667                  0.000000        3  \n",
       "1895                   0.189516                  0.004032        3  "
      ]
     },
     "execution_count": 273,
     "metadata": {},
     "output_type": "execute_result"
    }
   ],
   "source": [
    "customer[customer[\"Country\"]==\"EIRE\"]"
   ]
  },
  {
   "cell_type": "code",
   "execution_count": 270,
   "metadata": {},
   "outputs": [
    {
     "data": {
      "text/plain": [
       "<AxesSubplot:xlabel='num_invoices', ylabel='product_amount'>"
      ]
     },
     "execution_count": 270,
     "metadata": {},
     "output_type": "execute_result"
    },
    {
     "data": {
      "image/png": "[encoded data removed]",
      "text/plain": [
       "<Figure size 432x288 with 1 Axes>"
      ]
     },
     "metadata": {
      "needs_background": "light"
     },
     "output_type": "display_data"
    }
   ],
   "source": [
    "sns.scatterplot(customer[\"num_invoices\"],customer[\"product_amount\"])"
   ]
  },
  {
   "cell_type": "markdown",
   "metadata": {},
   "source": [
    "### 3. Clustering"
   ]
  },
  {
   "cell_type": "code",
   "execution_count": 258,
   "metadata": {},
   "outputs": [],
   "source": [
    "from sklearn.cluster import KMeans\n",
    "from sklearn.preprocessing import StandardScaler"
   ]
  },
  {
   "cell_type": "code",
   "execution_count": 261,
   "metadata": {},
   "outputs": [],
   "source": [
    "customer.loc[:,\"avg cancelled per invoice\"] = customer[\"cancelled\"]/customer[\"num_invoices\"]\n",
    "customer.loc[:,\"avg discount per invoice\"] = customer[\"discount_used\"]/customer[\"num_invoices\"]\n",
    "X = customer[[\"Quantity\",\"avg cancelled per invoice\",\"avg discount per invoice\",\n",
    "             \"num_invoices\",\"amount per invoice\",\"most_freq_count_per_inv\"]]\n",
    "s = StandardScaler()\n",
    "s.fit(X)\n",
    "X_std = s.transform(X)"
   ]
  },
  {
   "cell_type": "code",
   "execution_count": 262,
   "metadata": {},
   "outputs": [
    {
     "data": {
      "text/plain": [
       "array([[-0.23951649,  2.11458778, -0.05337484, -0.32913496, -0.86535666,\n",
       "         1.28971469],\n",
       "       [ 0.28654329, -0.61547293, -0.05337484,  0.20703691,  0.82660183,\n",
       "        -1.54021352],\n",
       "       [ 0.26150302, -0.61547293, -0.05337484, -0.11466622,  0.36932944,\n",
       "        -1.18647249],\n",
       "       ...,\n",
       "       [-0.21854258,  1.20456755, -0.05337484, -0.22190059, -0.70359339,\n",
       "         0.18918705],\n",
       "       [ 0.05090789, -0.61547293, -0.05337484,  1.17214627, -0.51404194,\n",
       "        -1.18647249],\n",
       "       [ 0.09991834, -0.61547293, -0.05337484, -0.22190059,  0.81756758,\n",
       "        -0.91134059]])"
      ]
     },
     "execution_count": 262,
     "metadata": {},
     "output_type": "execute_result"
    }
   ],
   "source": [
    "X_std"
   ]
  },
  {
   "cell_type": "code",
   "execution_count": 276,
   "metadata": {},
   "outputs": [],
   "source": [
    "kmeans = KMeans(init='k-means++', n_clusters = 3, n_init=30)\n",
    "kmeans.fit(X_std)\n",
    "clusters = kmeans.predict(X_std)\n"
   ]
  },
  {
   "cell_type": "code",
   "execution_count": 277,
   "metadata": {},
   "outputs": [
    {
     "data": {
      "text/plain": [
       "array([0, 1, 1, ..., 1, 1, 1], dtype=int32)"
      ]
     },
     "execution_count": 277,
     "metadata": {},
     "output_type": "execute_result"
    }
   ],
   "source": [
    "clusters"
   ]
  },
  {
   "cell_type": "code",
   "execution_count": 278,
   "metadata": {},
   "outputs": [],
   "source": [
    "customer.loc[:,\"cluster\"] = clusters"
   ]
  },
  {
   "cell_type": "code",
   "execution_count": 283,
   "metadata": {},
   "outputs": [
    {
     "data": {
      "text/plain": [
       "<AxesSubplot:xlabel='num_invoices', ylabel='product_amount'>"
      ]
     },
     "execution_count": 283,
     "metadata": {},
     "output_type": "execute_result"
    },
    {
     "data": {
      "image/png": "[encoded data removed]",
      "text/plain": [
       "<Figure size 432x288 with 1 Axes>"
      ]
     },
     "metadata": {
      "needs_background": "light"
     },
     "output_type": "display_data"
    }
   ],
   "source": [
    "#plot of total dollar amount per transaction vs total number of invoices\n",
    "sns.scatterplot(customer[\"num_invoices\"],customer[\"product_amount\"],hue = list(customer[\"cluster\"]))"
   ]
  },
  {
   "cell_type": "code",
   "execution_count": 284,
   "metadata": {},
   "outputs": [
    {
     "data": {
      "text/plain": [
       "<AxesSubplot:xlabel='avg discount per invoice', ylabel='amount per invoice'>"
      ]
     },
     "execution_count": 284,
     "metadata": {},
     "output_type": "execute_result"
    },
    {
     "data": {
      "image/png": "[encoded data removed]",
      "text/plain": [
       "<Figure size 432x288 with 1 Axes>"
      ]
     },
     "metadata": {
      "needs_background": "light"
     },
     "output_type": "display_data"
    }
   ],
   "source": [
    "#plot of average amount per invoice vs average discount used per invoice\n",
    "sns.scatterplot(customer[\"avg discount per invoice\"],customer[\"amount per invoice\"],hue = list(customer[\"cluster\"]))"
   ]
  },
  {
   "cell_type": "markdown",
   "metadata": {},
   "source": [
    "The analysis of the clusters are not comprehensive, based on the above plots, customers that use discount more frequently are clustered into one group, and customers with larger amount of invoices or larger total spend belong to the same cluster as those who use more discounts. This pattern gives us some basic understanding of out customers. Based on the second scatter plot, those who use more discounts on average not necessarily means larger average amount per invoice, so there are some implicit relationships among those variables. Further work can include choosing the best K, incorporate text analysis by building a matrix representation of the descriptions, so the category of the purchase can be analyzed as well."
   ]
  },
  {
   "cell_type": "code",
   "execution_count": null,
   "metadata": {},
   "outputs": [],
   "source": []
  },
  {
   "cell_type": "markdown",
   "metadata": {},
   "source": [
    "#### PCA"
   ]
  },
  {
   "cell_type": "code",
   "execution_count": 285,
   "metadata": {},
   "outputs": [],
   "source": [
    "from sklearn.decomposition import PCA"
   ]
  },
  {
   "cell_type": "code",
   "execution_count": 286,
   "metadata": {},
   "outputs": [],
   "source": [
    "pca = PCA(random_state=42)\n",
    "X_pca = pca.fit_transform(X_std)"
   ]
  },
  {
   "cell_type": "code",
   "execution_count": 287,
   "metadata": {},
   "outputs": [
    {
     "data": {
      "text/plain": [
       "array([0.31783065, 0.22303504, 0.16237673, 0.12410638, 0.11690849,\n",
       "       0.05574271])"
      ]
     },
     "execution_count": 287,
     "metadata": {},
     "output_type": "execute_result"
    }
   ],
   "source": [
    "pca.explained_variance_ratio_"
   ]
  },
  {
   "cell_type": "code",
   "execution_count": 289,
   "metadata": {},
   "outputs": [
    {
     "data": {
      "text/plain": [
       "<matplotlib.legend.Legend at 0x1413e4c50>"
      ]
     },
     "execution_count": 289,
     "metadata": {},
     "output_type": "execute_result"
    },
    {
     "data": {
      "image/png": "[encoded data removed]",
      "text/plain": [
       "<Figure size 720x288 with 1 Axes>"
      ]
     },
     "metadata": {
      "needs_background": "light"
     },
     "output_type": "display_data"
    }
   ],
   "source": [
    "fig,ax=plt.subplots(figsize=(10,4))\n",
    "pd.DataFrame(pca.components_,columns=X.columns).plot(kind=\"bar\",ax=ax).legend(bbox_to_anchor=(1,1))"
   ]
  },
  {
   "cell_type": "markdown",
   "metadata": {},
   "source": [
    "The first PC is dominated by Quantity and number of invoices, so this group includes customers who frequently purchase stuff and also likely to buy a number of different goods. The second component is dominated by the average cancellations per customer, with a negative impact. The third PC is dominated by average discounts used. These findings correspond to the patterns found by clustering above.\n"
   ]
  },
  {
   "cell_type": "code",
   "execution_count": null,
   "metadata": {},
   "outputs": [],
   "source": []
  }
 ],
 "metadata": {
  "kernelspec": {
   "display_name": "Python 3",
   "language": "python",
   "name": "python3"
  },
  "language_info": {
   "codemirror_mode": {
    "name": "ipython",
    "version": 3
   },
   "file_extension": ".py",
   "mimetype": "text/x-python",
   "name": "python",
   "nbconvert_exporter": "python",
   "pygments_lexer": "ipython3",
   "version": "3.7.4"
  }
 },
 "nbformat": 4,
 "nbformat_minor": 2
}
