{
 "cells": [
  {
   "cell_type": "markdown",
   "metadata": {},
   "source": [
    "# Overview\n",
    "In this notebook, I will analyze patterns with avocada prices. Data analysis was performed on different variables that might associate with avocado prices. Different types of predictive models were built. The dataset comes from [Kaggle](https://www.kaggle.com/neuromusic/avocado-prices)."
   ]
  },
  {
   "cell_type": "markdown",
   "metadata": {},
   "source": [
    "## 1. Data Processing and Feature Engineering"
   ]
  },
  {
   "cell_type": "code",
   "execution_count": 1,
   "metadata": {},
   "outputs": [],
   "source": [
    "import numpy as np \n",
    "import pandas as pd \n",
    "import matplotlib.pyplot as plt\n",
    "import seaborn as sns\n",
    "from sklearn.model_selection import train_test_split"
   ]
  },
  {
   "cell_type": "code",
   "execution_count": 2,
   "metadata": {},
   "outputs": [],
   "source": [
    "data = pd.read_csv(\"avocado.csv\",parse_dates=True)"
   ]
  },
  {
   "cell_type": "code",
   "execution_count": 3,
   "metadata": {},
   "outputs": [],
   "source": [
    "data = data.drop('Unnamed: 0',axis=1)\n",
    "data.loc[:,\"ind\"] = data.index+1 #index for linear regression when considering time trend"
   ]
  },
  {
   "cell_type": "code",
   "execution_count": 4,
   "metadata": {},
   "outputs": [
    {
     "data": {
      "text/html": [
       "<div>\n",
       "<style scoped>\n",
       "    .dataframe tbody tr th:only-of-type {\n",
       "        vertical-align: middle;\n",
       "    }\n",
       "\n",
       "    .dataframe tbody tr th {\n",
       "        vertical-align: top;\n",
       "    }\n",
       "\n",
       "    .dataframe thead th {\n",
       "        text-align: right;\n",
       "    }\n",
       "</style>\n",
       "<table border=\"1\" class=\"dataframe\">\n",
       "  <thead>\n",
       "    <tr style=\"text-align: right;\">\n",
       "      <th></th>\n",
       "      <th>Date</th>\n",
       "      <th>AveragePrice</th>\n",
       "      <th>Total Volume</th>\n",
       "      <th>4046</th>\n",
       "      <th>4225</th>\n",
       "      <th>4770</th>\n",
       "      <th>Total Bags</th>\n",
       "      <th>Small Bags</th>\n",
       "      <th>Large Bags</th>\n",
       "      <th>XLarge Bags</th>\n",
       "      <th>type</th>\n",
       "      <th>year</th>\n",
       "      <th>region</th>\n",
       "      <th>ind</th>\n",
       "    </tr>\n",
       "  </thead>\n",
       "  <tbody>\n",
       "    <tr>\n",
       "      <th>0</th>\n",
       "      <td>2015-12-27</td>\n",
       "      <td>1.33</td>\n",
       "      <td>64236.62</td>\n",
       "      <td>1036.74</td>\n",
       "      <td>54454.85</td>\n",
       "      <td>48.16</td>\n",
       "      <td>8696.87</td>\n",
       "      <td>8603.62</td>\n",
       "      <td>93.25</td>\n",
       "      <td>0.0</td>\n",
       "      <td>conventional</td>\n",
       "      <td>2015</td>\n",
       "      <td>Albany</td>\n",
       "      <td>1</td>\n",
       "    </tr>\n",
       "    <tr>\n",
       "      <th>1</th>\n",
       "      <td>2015-12-20</td>\n",
       "      <td>1.35</td>\n",
       "      <td>54876.98</td>\n",
       "      <td>674.28</td>\n",
       "      <td>44638.81</td>\n",
       "      <td>58.33</td>\n",
       "      <td>9505.56</td>\n",
       "      <td>9408.07</td>\n",
       "      <td>97.49</td>\n",
       "      <td>0.0</td>\n",
       "      <td>conventional</td>\n",
       "      <td>2015</td>\n",
       "      <td>Albany</td>\n",
       "      <td>2</td>\n",
       "    </tr>\n",
       "    <tr>\n",
       "      <th>2</th>\n",
       "      <td>2015-12-13</td>\n",
       "      <td>0.93</td>\n",
       "      <td>118220.22</td>\n",
       "      <td>794.70</td>\n",
       "      <td>109149.67</td>\n",
       "      <td>130.50</td>\n",
       "      <td>8145.35</td>\n",
       "      <td>8042.21</td>\n",
       "      <td>103.14</td>\n",
       "      <td>0.0</td>\n",
       "      <td>conventional</td>\n",
       "      <td>2015</td>\n",
       "      <td>Albany</td>\n",
       "      <td>3</td>\n",
       "    </tr>\n",
       "    <tr>\n",
       "      <th>3</th>\n",
       "      <td>2015-12-06</td>\n",
       "      <td>1.08</td>\n",
       "      <td>78992.15</td>\n",
       "      <td>1132.00</td>\n",
       "      <td>71976.41</td>\n",
       "      <td>72.58</td>\n",
       "      <td>5811.16</td>\n",
       "      <td>5677.40</td>\n",
       "      <td>133.76</td>\n",
       "      <td>0.0</td>\n",
       "      <td>conventional</td>\n",
       "      <td>2015</td>\n",
       "      <td>Albany</td>\n",
       "      <td>4</td>\n",
       "    </tr>\n",
       "    <tr>\n",
       "      <th>4</th>\n",
       "      <td>2015-11-29</td>\n",
       "      <td>1.28</td>\n",
       "      <td>51039.60</td>\n",
       "      <td>941.48</td>\n",
       "      <td>43838.39</td>\n",
       "      <td>75.78</td>\n",
       "      <td>6183.95</td>\n",
       "      <td>5986.26</td>\n",
       "      <td>197.69</td>\n",
       "      <td>0.0</td>\n",
       "      <td>conventional</td>\n",
       "      <td>2015</td>\n",
       "      <td>Albany</td>\n",
       "      <td>5</td>\n",
       "    </tr>\n",
       "  </tbody>\n",
       "</table>\n",
       "</div>"
      ],
      "text/plain": [
       "         Date  AveragePrice  Total Volume     4046       4225    4770  \\\n",
       "0  2015-12-27          1.33      64236.62  1036.74   54454.85   48.16   \n",
       "1  2015-12-20          1.35      54876.98   674.28   44638.81   58.33   \n",
       "2  2015-12-13          0.93     118220.22   794.70  109149.67  130.50   \n",
       "3  2015-12-06          1.08      78992.15  1132.00   71976.41   72.58   \n",
       "4  2015-11-29          1.28      51039.60   941.48   43838.39   75.78   \n",
       "\n",
       "   Total Bags  Small Bags  Large Bags  XLarge Bags          type  year  \\\n",
       "0     8696.87     8603.62       93.25          0.0  conventional  2015   \n",
       "1     9505.56     9408.07       97.49          0.0  conventional  2015   \n",
       "2     8145.35     8042.21      103.14          0.0  conventional  2015   \n",
       "3     5811.16     5677.40      133.76          0.0  conventional  2015   \n",
       "4     6183.95     5986.26      197.69          0.0  conventional  2015   \n",
       "\n",
       "   region  ind  \n",
       "0  Albany    1  \n",
       "1  Albany    2  \n",
       "2  Albany    3  \n",
       "3  Albany    4  \n",
       "4  Albany    5  "
      ]
     },
     "execution_count": 4,
     "metadata": {},
     "output_type": "execute_result"
    }
   ],
   "source": [
    "data.head()"
   ]
  },
  {
   "cell_type": "code",
   "execution_count": 5,
   "metadata": {},
   "outputs": [],
   "source": [
    "data.loc[:,\"Date\"] = pd.to_datetime(data[\"Date\"])"
   ]
  },
  {
   "cell_type": "code",
   "execution_count": 6,
   "metadata": {},
   "outputs": [
    {
     "data": {
      "text/plain": [
       "0.0"
      ]
     },
     "execution_count": 6,
     "metadata": {},
     "output_type": "execute_result"
    }
   ],
   "source": [
    "#no missing values present\n",
    "data.isnull().mean().sum()"
   ]
  },
  {
   "cell_type": "code",
   "execution_count": 7,
   "metadata": {},
   "outputs": [
    {
     "data": {
      "text/plain": [
       "<AxesSubplot:xlabel='Date', ylabel='AveragePrice'>"
      ]
     },
     "execution_count": 7,
     "metadata": {},
     "output_type": "execute_result"
    },
    {
     "data": {
      "image/png": "[encoded data removed]",
      "text/plain": [
       "<Figure size 864x432 with 1 Axes>"
      ]
     },
     "metadata": {
      "needs_background": "light"
     },
     "output_type": "display_data"
    }
   ],
   "source": [
    "#visualize average prices by type\n",
    "plt.figure(figsize=(12,6))\n",
    "sns.lineplot(\"Date\",\"AveragePrice\",hue=\"type\", data=data)"
   ]
  },
  {
   "cell_type": "markdown",
   "metadata": {},
   "source": [
    "Since the dataset contains a time component, it might be interesting to explore date component, such as day of the week, week of the year, month of the year and quarter. We can use the date time functions to extract those features. One thing to note is that there are multiple data points per day since there are multiple regions with different granularity. We will take this into account in the next section."
   ]
  },
  {
   "cell_type": "code",
   "execution_count": 8,
   "metadata": {},
   "outputs": [],
   "source": [
    "data.loc[:,\"month\"] = data[\"Date\"].dt.month.astype(str)\n",
    "data.loc[:,\"week\"] = data[\"Date\"].dt.isocalendar().week.astype(str)\n",
    "data.loc[:,\"quarter\"] = data[\"Date\"].dt.quarter.astype(str)"
   ]
  },
  {
   "cell_type": "code",
   "execution_count": 9,
   "metadata": {},
   "outputs": [
    {
     "data": {
      "text/html": [
       "<div>\n",
       "<style scoped>\n",
       "    .dataframe tbody tr th:only-of-type {\n",
       "        vertical-align: middle;\n",
       "    }\n",
       "\n",
       "    .dataframe tbody tr th {\n",
       "        vertical-align: top;\n",
       "    }\n",
       "\n",
       "    .dataframe thead th {\n",
       "        text-align: right;\n",
       "    }\n",
       "</style>\n",
       "<table border=\"1\" class=\"dataframe\">\n",
       "  <thead>\n",
       "    <tr style=\"text-align: right;\">\n",
       "      <th></th>\n",
       "      <th>Date</th>\n",
       "      <th>AveragePrice</th>\n",
       "      <th>Total Volume</th>\n",
       "      <th>4046</th>\n",
       "      <th>4225</th>\n",
       "      <th>4770</th>\n",
       "      <th>Total Bags</th>\n",
       "      <th>Small Bags</th>\n",
       "      <th>Large Bags</th>\n",
       "      <th>XLarge Bags</th>\n",
       "      <th>type</th>\n",
       "      <th>year</th>\n",
       "      <th>region</th>\n",
       "      <th>ind</th>\n",
       "      <th>month</th>\n",
       "      <th>week</th>\n",
       "      <th>quarter</th>\n",
       "    </tr>\n",
       "  </thead>\n",
       "  <tbody>\n",
       "    <tr>\n",
       "      <th>0</th>\n",
       "      <td>2015-12-27</td>\n",
       "      <td>1.33</td>\n",
       "      <td>64236.62</td>\n",
       "      <td>1036.74</td>\n",
       "      <td>54454.85</td>\n",
       "      <td>48.16</td>\n",
       "      <td>8696.87</td>\n",
       "      <td>8603.62</td>\n",
       "      <td>93.25</td>\n",
       "      <td>0.0</td>\n",
       "      <td>conventional</td>\n",
       "      <td>2015</td>\n",
       "      <td>Albany</td>\n",
       "      <td>1</td>\n",
       "      <td>12</td>\n",
       "      <td>52</td>\n",
       "      <td>4</td>\n",
       "    </tr>\n",
       "    <tr>\n",
       "      <th>1</th>\n",
       "      <td>2015-12-20</td>\n",
       "      <td>1.35</td>\n",
       "      <td>54876.98</td>\n",
       "      <td>674.28</td>\n",
       "      <td>44638.81</td>\n",
       "      <td>58.33</td>\n",
       "      <td>9505.56</td>\n",
       "      <td>9408.07</td>\n",
       "      <td>97.49</td>\n",
       "      <td>0.0</td>\n",
       "      <td>conventional</td>\n",
       "      <td>2015</td>\n",
       "      <td>Albany</td>\n",
       "      <td>2</td>\n",
       "      <td>12</td>\n",
       "      <td>51</td>\n",
       "      <td>4</td>\n",
       "    </tr>\n",
       "    <tr>\n",
       "      <th>2</th>\n",
       "      <td>2015-12-13</td>\n",
       "      <td>0.93</td>\n",
       "      <td>118220.22</td>\n",
       "      <td>794.70</td>\n",
       "      <td>109149.67</td>\n",
       "      <td>130.50</td>\n",
       "      <td>8145.35</td>\n",
       "      <td>8042.21</td>\n",
       "      <td>103.14</td>\n",
       "      <td>0.0</td>\n",
       "      <td>conventional</td>\n",
       "      <td>2015</td>\n",
       "      <td>Albany</td>\n",
       "      <td>3</td>\n",
       "      <td>12</td>\n",
       "      <td>50</td>\n",
       "      <td>4</td>\n",
       "    </tr>\n",
       "    <tr>\n",
       "      <th>3</th>\n",
       "      <td>2015-12-06</td>\n",
       "      <td>1.08</td>\n",
       "      <td>78992.15</td>\n",
       "      <td>1132.00</td>\n",
       "      <td>71976.41</td>\n",
       "      <td>72.58</td>\n",
       "      <td>5811.16</td>\n",
       "      <td>5677.40</td>\n",
       "      <td>133.76</td>\n",
       "      <td>0.0</td>\n",
       "      <td>conventional</td>\n",
       "      <td>2015</td>\n",
       "      <td>Albany</td>\n",
       "      <td>4</td>\n",
       "      <td>12</td>\n",
       "      <td>49</td>\n",
       "      <td>4</td>\n",
       "    </tr>\n",
       "    <tr>\n",
       "      <th>4</th>\n",
       "      <td>2015-11-29</td>\n",
       "      <td>1.28</td>\n",
       "      <td>51039.60</td>\n",
       "      <td>941.48</td>\n",
       "      <td>43838.39</td>\n",
       "      <td>75.78</td>\n",
       "      <td>6183.95</td>\n",
       "      <td>5986.26</td>\n",
       "      <td>197.69</td>\n",
       "      <td>0.0</td>\n",
       "      <td>conventional</td>\n",
       "      <td>2015</td>\n",
       "      <td>Albany</td>\n",
       "      <td>5</td>\n",
       "      <td>11</td>\n",
       "      <td>48</td>\n",
       "      <td>4</td>\n",
       "    </tr>\n",
       "  </tbody>\n",
       "</table>\n",
       "</div>"
      ],
      "text/plain": [
       "        Date  AveragePrice  Total Volume     4046       4225    4770  \\\n",
       "0 2015-12-27          1.33      64236.62  1036.74   54454.85   48.16   \n",
       "1 2015-12-20          1.35      54876.98   674.28   44638.81   58.33   \n",
       "2 2015-12-13          0.93     118220.22   794.70  109149.67  130.50   \n",
       "3 2015-12-06          1.08      78992.15  1132.00   71976.41   72.58   \n",
       "4 2015-11-29          1.28      51039.60   941.48   43838.39   75.78   \n",
       "\n",
       "   Total Bags  Small Bags  Large Bags  XLarge Bags          type  year  \\\n",
       "0     8696.87     8603.62       93.25          0.0  conventional  2015   \n",
       "1     9505.56     9408.07       97.49          0.0  conventional  2015   \n",
       "2     8145.35     8042.21      103.14          0.0  conventional  2015   \n",
       "3     5811.16     5677.40      133.76          0.0  conventional  2015   \n",
       "4     6183.95     5986.26      197.69          0.0  conventional  2015   \n",
       "\n",
       "   region  ind month week quarter  \n",
       "0  Albany    1    12   52       4  \n",
       "1  Albany    2    12   51       4  \n",
       "2  Albany    3    12   50       4  \n",
       "3  Albany    4    12   49       4  \n",
       "4  Albany    5    11   48       4  "
      ]
     },
     "execution_count": 9,
     "metadata": {},
     "output_type": "execute_result"
    }
   ],
   "source": [
    "data.head()"
   ]
  },
  {
   "cell_type": "code",
   "execution_count": null,
   "metadata": {},
   "outputs": [],
   "source": []
  },
  {
   "cell_type": "markdown",
   "metadata": {},
   "source": [
    "## EDA\n",
    "- Overall distribution of prices\n",
    "- Number sold in each of the PLU type\n",
    "- Number of different bag sizes\n",
    "- Differences in prices across regions\n",
    "- Weekly, monthly, quarterly patterns"
   ]
  },
  {
   "cell_type": "code",
   "execution_count": 10,
   "metadata": {},
   "outputs": [
    {
     "data": {
      "text/plain": [
       "<matplotlib.legend.Legend at 0x11fbbe590>"
      ]
     },
     "execution_count": 10,
     "metadata": {},
     "output_type": "execute_result"
    },
    {
     "data": {
      "image/png": "[encoded data removed]",
      "text/plain": [
       "<Figure size 432x288 with 1 Axes>"
      ]
     },
     "metadata": {
      "needs_background": "light"
     },
     "output_type": "display_data"
    }
   ],
   "source": [
    "sns.distplot(data[data[\"type\"]==\"conventional\"][\"AveragePrice\"],label = \"conventional\") #roughly normal for both types\n",
    "sns.distplot(data[data[\"type\"]==\"organic\"][\"AveragePrice\"],label=\"organic\")\n",
    "plt.legend()"
   ]
  },
  {
   "cell_type": "code",
   "execution_count": 11,
   "metadata": {},
   "outputs": [
    {
     "data": {
      "text/plain": [
       "Index(['Date', 'AveragePrice', 'Total Volume', '4046', '4225', '4770',\n",
       "       'Total Bags', 'Small Bags', 'Large Bags', 'XLarge Bags', 'type', 'year',\n",
       "       'region', 'ind', 'month', 'week', 'quarter'],\n",
       "      dtype='object')"
      ]
     },
     "execution_count": 11,
     "metadata": {},
     "output_type": "execute_result"
    }
   ],
   "source": [
    "data.columns"
   ]
  },
  {
   "cell_type": "code",
   "execution_count": 12,
   "metadata": {},
   "outputs": [],
   "source": [
    "df = data[['Total Volume', '4046', '4225', '4770',\n",
    "       'Total Bags', 'Small Bags', 'Large Bags', 'XLarge Bags', 'type', 'year',\n",
    "       'region', 'month', 'week', 'quarter']]"
   ]
  },
  {
   "cell_type": "code",
   "execution_count": 13,
   "metadata": {},
   "outputs": [
    {
     "data": {
      "text/html": [
       "<div>\n",
       "<style scoped>\n",
       "    .dataframe tbody tr th:only-of-type {\n",
       "        vertical-align: middle;\n",
       "    }\n",
       "\n",
       "    .dataframe tbody tr th {\n",
       "        vertical-align: top;\n",
       "    }\n",
       "\n",
       "    .dataframe thead th {\n",
       "        text-align: right;\n",
       "    }\n",
       "</style>\n",
       "<table border=\"1\" class=\"dataframe\">\n",
       "  <thead>\n",
       "    <tr style=\"text-align: right;\">\n",
       "      <th></th>\n",
       "      <th>type</th>\n",
       "      <th>Total Volume</th>\n",
       "      <th>4046</th>\n",
       "      <th>4225</th>\n",
       "      <th>4770</th>\n",
       "      <th>Total Bags</th>\n",
       "      <th>Small Bags</th>\n",
       "      <th>Large Bags</th>\n",
       "      <th>XLarge Bags</th>\n",
       "      <th>year</th>\n",
       "    </tr>\n",
       "  </thead>\n",
       "  <tbody>\n",
       "    <tr>\n",
       "      <th>0</th>\n",
       "      <td>conventional</td>\n",
       "      <td>1.508722e+10</td>\n",
       "      <td>5.280410e+09</td>\n",
       "      <td>5.245673e+09</td>\n",
       "      <td>4.143733e+08</td>\n",
       "      <td>4.146764e+09</td>\n",
       "      <td>3.164183e+09</td>\n",
       "      <td>9.259030e+08</td>\n",
       "      <td>56678255.60</td>\n",
       "      <td>18399366</td>\n",
       "    </tr>\n",
       "    <tr>\n",
       "      <th>1</th>\n",
       "      <td>organic</td>\n",
       "      <td>4.361817e+08</td>\n",
       "      <td>6.670082e+07</td>\n",
       "      <td>1.406024e+08</td>\n",
       "      <td>2.429041e+06</td>\n",
       "      <td>2.264115e+08</td>\n",
       "      <td>1.606877e+08</td>\n",
       "      <td>6.571281e+07</td>\n",
       "      <td>10921.73</td>\n",
       "      <td>18393317</td>\n",
       "    </tr>\n",
       "  </tbody>\n",
       "</table>\n",
       "</div>"
      ],
      "text/plain": [
       "           type  Total Volume          4046          4225          4770  \\\n",
       "0  conventional  1.508722e+10  5.280410e+09  5.245673e+09  4.143733e+08   \n",
       "1       organic  4.361817e+08  6.670082e+07  1.406024e+08  2.429041e+06   \n",
       "\n",
       "     Total Bags    Small Bags    Large Bags  XLarge Bags      year  \n",
       "0  4.146764e+09  3.164183e+09  9.259030e+08  56678255.60  18399366  \n",
       "1  2.264115e+08  1.606877e+08  6.571281e+07     10921.73  18393317  "
      ]
     },
     "execution_count": 13,
     "metadata": {},
     "output_type": "execute_result"
    }
   ],
   "source": [
    "#by type\n",
    "by_type = df.groupby(\"type\").sum().reset_index()\n",
    "by_type "
   ]
  },
  {
   "cell_type": "code",
   "execution_count": 14,
   "metadata": {},
   "outputs": [
    {
     "data": {
      "image/png": "[encoded data removed]",
      "text/plain": [
       "<Figure size 864x432 with 8 Axes>"
      ]
     },
     "metadata": {
      "needs_background": "light"
     },
     "output_type": "display_data"
    }
   ],
   "source": [
    "fig,ax=plt.subplots(nrows = 2,ncols=4,figsize=(12,6))\n",
    "c = 0\n",
    "r=0\n",
    "for i in np.arange(1,9):\n",
    "    if c<3:\n",
    "        sns.barplot(by_type[\"type\"],by_type[by_type.columns[i]], ax = ax[r][c])\n",
    "        c+=1\n",
    "    else:\n",
    "        if r == 0:\n",
    "            sns.barplot(by_type[\"type\"],by_type[by_type.columns[i]], ax = ax[r][c])\n",
    "            r = 1\n",
    "            c=0\n",
    "        elif r==1:\n",
    "            sns.barplot(by_type[\"type\"],by_type[by_type.columns[i]], ax = ax[r][c])\n",
    "        \n",
    "    "
   ]
  },
  {
   "cell_type": "markdown",
   "metadata": {},
   "source": [
    "There are a lot more volumes for conventional type than organic, for organic, there seemed to be more large bagas than small bags, almost no X-large bags. There are more 4225 PLU avocado among organic products."
   ]
  },
  {
   "cell_type": "code",
   "execution_count": 15,
   "metadata": {
    "scrolled": true
   },
   "outputs": [
    {
     "data": {
      "text/html": [
       "<div>\n",
       "<style scoped>\n",
       "    .dataframe tbody tr th:only-of-type {\n",
       "        vertical-align: middle;\n",
       "    }\n",
       "\n",
       "    .dataframe tbody tr th {\n",
       "        vertical-align: top;\n",
       "    }\n",
       "\n",
       "    .dataframe thead th {\n",
       "        text-align: right;\n",
       "    }\n",
       "</style>\n",
       "<table border=\"1\" class=\"dataframe\">\n",
       "  <thead>\n",
       "    <tr style=\"text-align: right;\">\n",
       "      <th></th>\n",
       "      <th>region</th>\n",
       "      <th>Total Volume</th>\n",
       "      <th>4046</th>\n",
       "      <th>4225</th>\n",
       "      <th>4770</th>\n",
       "      <th>Total Bags</th>\n",
       "      <th>Small Bags</th>\n",
       "      <th>Large Bags</th>\n",
       "      <th>XLarge Bags</th>\n",
       "      <th>year</th>\n",
       "    </tr>\n",
       "  </thead>\n",
       "  <tbody>\n",
       "    <tr>\n",
       "      <th>0</th>\n",
       "      <td>Albany</td>\n",
       "      <td>1.606780e+07</td>\n",
       "      <td>6.165396e+05</td>\n",
       "      <td>1.271597e+07</td>\n",
       "      <td>5.503733e+04</td>\n",
       "      <td>2.680255e+06</td>\n",
       "      <td>2.246945e+06</td>\n",
       "      <td>3.898817e+05</td>\n",
       "      <td>43429.16</td>\n",
       "      <td>681458</td>\n",
       "    </tr>\n",
       "    <tr>\n",
       "      <th>1</th>\n",
       "      <td>Atlanta</td>\n",
       "      <td>8.860512e+07</td>\n",
       "      <td>4.938750e+07</td>\n",
       "      <td>1.055186e+07</td>\n",
       "      <td>1.052484e+05</td>\n",
       "      <td>2.856051e+07</td>\n",
       "      <td>1.744274e+07</td>\n",
       "      <td>1.083968e+07</td>\n",
       "      <td>278101.68</td>\n",
       "      <td>681458</td>\n",
       "    </tr>\n",
       "    <tr>\n",
       "      <th>2</th>\n",
       "      <td>BaltimoreWashington</td>\n",
       "      <td>1.347139e+08</td>\n",
       "      <td>1.205180e+07</td>\n",
       "      <td>8.314222e+07</td>\n",
       "      <td>4.213755e+06</td>\n",
       "      <td>3.530615e+07</td>\n",
       "      <td>3.411761e+07</td>\n",
       "      <td>9.815468e+05</td>\n",
       "      <td>206985.36</td>\n",
       "      <td>681458</td>\n",
       "    </tr>\n",
       "    <tr>\n",
       "      <th>3</th>\n",
       "      <td>Boise</td>\n",
       "      <td>1.441319e+07</td>\n",
       "      <td>6.766594e+06</td>\n",
       "      <td>1.170049e+06</td>\n",
       "      <td>1.077134e+06</td>\n",
       "      <td>5.399412e+06</td>\n",
       "      <td>4.677933e+06</td>\n",
       "      <td>7.110283e+05</td>\n",
       "      <td>10449.34</td>\n",
       "      <td>681458</td>\n",
       "    </tr>\n",
       "    <tr>\n",
       "      <th>4</th>\n",
       "      <td>Boston</td>\n",
       "      <td>9.727398e+07</td>\n",
       "      <td>1.688178e+06</td>\n",
       "      <td>7.240631e+07</td>\n",
       "      <td>1.684016e+06</td>\n",
       "      <td>2.149548e+07</td>\n",
       "      <td>1.991043e+07</td>\n",
       "      <td>1.500167e+06</td>\n",
       "      <td>84879.99</td>\n",
       "      <td>681458</td>\n",
       "    </tr>\n",
       "    <tr>\n",
       "      <th>5</th>\n",
       "      <td>BuffaloRochester</td>\n",
       "      <td>2.296247e+07</td>\n",
       "      <td>6.005149e+05</td>\n",
       "      <td>1.070242e+07</td>\n",
       "      <td>4.878556e+04</td>\n",
       "      <td>1.161075e+07</td>\n",
       "      <td>1.026843e+07</td>\n",
       "      <td>1.260419e+06</td>\n",
       "      <td>81901.94</td>\n",
       "      <td>681458</td>\n",
       "    </tr>\n",
       "    <tr>\n",
       "      <th>6</th>\n",
       "      <td>California</td>\n",
       "      <td>1.028982e+09</td>\n",
       "      <td>3.989670e+08</td>\n",
       "      <td>3.514914e+08</td>\n",
       "      <td>3.184105e+07</td>\n",
       "      <td>2.466822e+08</td>\n",
       "      <td>2.290977e+08</td>\n",
       "      <td>1.231194e+07</td>\n",
       "      <td>5272577.91</td>\n",
       "      <td>681458</td>\n",
       "    </tr>\n",
       "    <tr>\n",
       "      <th>7</th>\n",
       "      <td>Charlotte</td>\n",
       "      <td>3.555554e+07</td>\n",
       "      <td>7.563811e+06</td>\n",
       "      <td>1.238027e+07</td>\n",
       "      <td>3.913522e+06</td>\n",
       "      <td>1.169794e+07</td>\n",
       "      <td>1.064385e+07</td>\n",
       "      <td>9.844872e+05</td>\n",
       "      <td>69603.59</td>\n",
       "      <td>681458</td>\n",
       "    </tr>\n",
       "    <tr>\n",
       "      <th>8</th>\n",
       "      <td>Chicago</td>\n",
       "      <td>1.337023e+08</td>\n",
       "      <td>1.084408e+07</td>\n",
       "      <td>8.602744e+07</td>\n",
       "      <td>1.996539e+07</td>\n",
       "      <td>1.686540e+07</td>\n",
       "      <td>1.479465e+07</td>\n",
       "      <td>1.691875e+06</td>\n",
       "      <td>378872.71</td>\n",
       "      <td>681458</td>\n",
       "    </tr>\n",
       "    <tr>\n",
       "      <th>9</th>\n",
       "      <td>CincinnatiDayton</td>\n",
       "      <td>4.452201e+07</td>\n",
       "      <td>1.829154e+06</td>\n",
       "      <td>2.063791e+07</td>\n",
       "      <td>1.156307e+06</td>\n",
       "      <td>2.089792e+07</td>\n",
       "      <td>5.661894e+06</td>\n",
       "      <td>1.497219e+07</td>\n",
       "      <td>263830.73</td>\n",
       "      <td>681458</td>\n",
       "    </tr>\n",
       "    <tr>\n",
       "      <th>10</th>\n",
       "      <td>Columbus</td>\n",
       "      <td>2.999336e+07</td>\n",
       "      <td>1.258613e+07</td>\n",
       "      <td>5.715680e+06</td>\n",
       "      <td>1.675076e+06</td>\n",
       "      <td>1.001639e+07</td>\n",
       "      <td>8.070793e+06</td>\n",
       "      <td>1.724880e+06</td>\n",
       "      <td>220715.52</td>\n",
       "      <td>681458</td>\n",
       "    </tr>\n",
       "    <tr>\n",
       "      <th>11</th>\n",
       "      <td>DallasFtWorth</td>\n",
       "      <td>2.084193e+08</td>\n",
       "      <td>1.105565e+08</td>\n",
       "      <td>4.717049e+07</td>\n",
       "      <td>4.222574e+06</td>\n",
       "      <td>4.646975e+07</td>\n",
       "      <td>4.082174e+07</td>\n",
       "      <td>5.215721e+06</td>\n",
       "      <td>432293.08</td>\n",
       "      <td>681458</td>\n",
       "    </tr>\n",
       "    <tr>\n",
       "      <th>12</th>\n",
       "      <td>Denver</td>\n",
       "      <td>1.389025e+08</td>\n",
       "      <td>2.642885e+07</td>\n",
       "      <td>5.081051e+07</td>\n",
       "      <td>2.706165e+06</td>\n",
       "      <td>5.895701e+07</td>\n",
       "      <td>1.876361e+07</td>\n",
       "      <td>4.014092e+07</td>\n",
       "      <td>52481.28</td>\n",
       "      <td>681458</td>\n",
       "    </tr>\n",
       "    <tr>\n",
       "      <th>13</th>\n",
       "      <td>Detroit</td>\n",
       "      <td>6.342242e+07</td>\n",
       "      <td>1.878315e+07</td>\n",
       "      <td>1.176218e+07</td>\n",
       "      <td>8.614803e+06</td>\n",
       "      <td>2.426007e+07</td>\n",
       "      <td>1.993907e+07</td>\n",
       "      <td>2.671969e+06</td>\n",
       "      <td>1649024.44</td>\n",
       "      <td>681458</td>\n",
       "    </tr>\n",
       "    <tr>\n",
       "      <th>14</th>\n",
       "      <td>GrandRapids</td>\n",
       "      <td>3.021174e+07</td>\n",
       "      <td>4.932665e+05</td>\n",
       "      <td>1.724153e+07</td>\n",
       "      <td>3.307837e+06</td>\n",
       "      <td>9.169094e+06</td>\n",
       "      <td>7.533477e+06</td>\n",
       "      <td>7.968005e+05</td>\n",
       "      <td>838815.37</td>\n",
       "      <td>681458</td>\n",
       "    </tr>\n",
       "    <tr>\n",
       "      <th>15</th>\n",
       "      <td>GreatLakes</td>\n",
       "      <td>5.896425e+08</td>\n",
       "      <td>9.371701e+07</td>\n",
       "      <td>2.672577e+08</td>\n",
       "      <td>5.007597e+07</td>\n",
       "      <td>1.785756e+08</td>\n",
       "      <td>1.232875e+08</td>\n",
       "      <td>4.889564e+07</td>\n",
       "      <td>6392523.96</td>\n",
       "      <td>681458</td>\n",
       "    </tr>\n",
       "    <tr>\n",
       "      <th>16</th>\n",
       "      <td>HarrisburgScranton</td>\n",
       "      <td>4.180886e+07</td>\n",
       "      <td>7.515521e+06</td>\n",
       "      <td>2.068974e+07</td>\n",
       "      <td>7.434063e+04</td>\n",
       "      <td>1.352925e+07</td>\n",
       "      <td>1.277287e+07</td>\n",
       "      <td>6.017657e+05</td>\n",
       "      <td>154618.16</td>\n",
       "      <td>681458</td>\n",
       "    </tr>\n",
       "    <tr>\n",
       "      <th>17</th>\n",
       "      <td>HartfordSpringfield</td>\n",
       "      <td>5.067054e+07</td>\n",
       "      <td>1.319654e+06</td>\n",
       "      <td>3.784762e+07</td>\n",
       "      <td>1.702536e+05</td>\n",
       "      <td>1.133301e+07</td>\n",
       "      <td>1.077856e+07</td>\n",
       "      <td>4.768482e+05</td>\n",
       "      <td>77601.72</td>\n",
       "      <td>681458</td>\n",
       "    </tr>\n",
       "    <tr>\n",
       "      <th>18</th>\n",
       "      <td>Houston</td>\n",
       "      <td>2.031679e+08</td>\n",
       "      <td>9.977290e+07</td>\n",
       "      <td>4.772443e+07</td>\n",
       "      <td>5.455471e+06</td>\n",
       "      <td>5.021506e+07</td>\n",
       "      <td>3.252517e+07</td>\n",
       "      <td>1.736376e+07</td>\n",
       "      <td>326132.75</td>\n",
       "      <td>681458</td>\n",
       "    </tr>\n",
       "    <tr>\n",
       "      <th>19</th>\n",
       "      <td>Indianapolis</td>\n",
       "      <td>3.026339e+07</td>\n",
       "      <td>2.425510e+06</td>\n",
       "      <td>1.446384e+07</td>\n",
       "      <td>1.391161e+06</td>\n",
       "      <td>1.198081e+07</td>\n",
       "      <td>6.611064e+06</td>\n",
       "      <td>5.086256e+06</td>\n",
       "      <td>283489.96</td>\n",
       "      <td>681458</td>\n",
       "    </tr>\n",
       "    <tr>\n",
       "      <th>20</th>\n",
       "      <td>Jacksonville</td>\n",
       "      <td>2.879000e+07</td>\n",
       "      <td>1.547171e+07</td>\n",
       "      <td>3.526740e+06</td>\n",
       "      <td>7.342605e+04</td>\n",
       "      <td>9.718127e+06</td>\n",
       "      <td>4.339787e+06</td>\n",
       "      <td>5.273004e+06</td>\n",
       "      <td>105335.77</td>\n",
       "      <td>681458</td>\n",
       "    </tr>\n",
       "    <tr>\n",
       "      <th>21</th>\n",
       "      <td>LasVegas</td>\n",
       "      <td>5.437691e+07</td>\n",
       "      <td>1.978713e+07</td>\n",
       "      <td>1.536442e+07</td>\n",
       "      <td>1.172357e+06</td>\n",
       "      <td>1.805299e+07</td>\n",
       "      <td>8.977623e+06</td>\n",
       "      <td>9.059315e+06</td>\n",
       "      <td>16054.32</td>\n",
       "      <td>681458</td>\n",
       "    </tr>\n",
       "    <tr>\n",
       "      <th>22</th>\n",
       "      <td>LosAngeles</td>\n",
       "      <td>5.078965e+08</td>\n",
       "      <td>2.238794e+08</td>\n",
       "      <td>1.021340e+08</td>\n",
       "      <td>1.361869e+07</td>\n",
       "      <td>1.682645e+08</td>\n",
       "      <td>1.557261e+08</td>\n",
       "      <td>8.463145e+06</td>\n",
       "      <td>4075279.95</td>\n",
       "      <td>681458</td>\n",
       "    </tr>\n",
       "    <tr>\n",
       "      <th>23</th>\n",
       "      <td>Louisville</td>\n",
       "      <td>1.609700e+07</td>\n",
       "      <td>7.095510e+05</td>\n",
       "      <td>8.412668e+06</td>\n",
       "      <td>3.394966e+05</td>\n",
       "      <td>6.635289e+06</td>\n",
       "      <td>2.814241e+06</td>\n",
       "      <td>3.713125e+06</td>\n",
       "      <td>107922.98</td>\n",
       "      <td>681458</td>\n",
       "    </tr>\n",
       "    <tr>\n",
       "      <th>24</th>\n",
       "      <td>MiamiFtLauderdale</td>\n",
       "      <td>9.767322e+07</td>\n",
       "      <td>5.914010e+07</td>\n",
       "      <td>1.491128e+07</td>\n",
       "      <td>1.054005e+05</td>\n",
       "      <td>2.351644e+07</td>\n",
       "      <td>1.121997e+07</td>\n",
       "      <td>1.199081e+07</td>\n",
       "      <td>305657.99</td>\n",
       "      <td>681458</td>\n",
       "    </tr>\n",
       "    <tr>\n",
       "      <th>25</th>\n",
       "      <td>Midsouth</td>\n",
       "      <td>5.083494e+08</td>\n",
       "      <td>1.104306e+08</td>\n",
       "      <td>2.223731e+08</td>\n",
       "      <td>1.903196e+07</td>\n",
       "      <td>1.565136e+08</td>\n",
       "      <td>1.343644e+08</td>\n",
       "      <td>2.077087e+07</td>\n",
       "      <td>1378317.13</td>\n",
       "      <td>681458</td>\n",
       "    </tr>\n",
       "    <tr>\n",
       "      <th>26</th>\n",
       "      <td>Nashville</td>\n",
       "      <td>3.561209e+07</td>\n",
       "      <td>1.818888e+07</td>\n",
       "      <td>3.810509e+06</td>\n",
       "      <td>6.455284e+05</td>\n",
       "      <td>1.296717e+07</td>\n",
       "      <td>1.004279e+07</td>\n",
       "      <td>2.812894e+06</td>\n",
       "      <td>111486.16</td>\n",
       "      <td>681458</td>\n",
       "    </tr>\n",
       "    <tr>\n",
       "      <th>27</th>\n",
       "      <td>NewOrleansMobile</td>\n",
       "      <td>4.569514e+07</td>\n",
       "      <td>2.680474e+07</td>\n",
       "      <td>4.413219e+06</td>\n",
       "      <td>2.082379e+05</td>\n",
       "      <td>1.426894e+07</td>\n",
       "      <td>1.185955e+07</td>\n",
       "      <td>1.896699e+06</td>\n",
       "      <td>512688.70</td>\n",
       "      <td>681458</td>\n",
       "    </tr>\n",
       "    <tr>\n",
       "      <th>28</th>\n",
       "      <td>NewYork</td>\n",
       "      <td>2.407341e+08</td>\n",
       "      <td>7.639327e+06</td>\n",
       "      <td>1.633538e+08</td>\n",
       "      <td>1.746802e+06</td>\n",
       "      <td>6.799416e+07</td>\n",
       "      <td>5.840168e+07</td>\n",
       "      <td>9.232998e+06</td>\n",
       "      <td>359477.68</td>\n",
       "      <td>681458</td>\n",
       "    </tr>\n",
       "    <tr>\n",
       "      <th>29</th>\n",
       "      <td>Northeast</td>\n",
       "      <td>7.132809e+08</td>\n",
       "      <td>3.499121e+07</td>\n",
       "      <td>4.744847e+08</td>\n",
       "      <td>6.816645e+06</td>\n",
       "      <td>1.969884e+08</td>\n",
       "      <td>1.736230e+08</td>\n",
       "      <td>2.205605e+07</td>\n",
       "      <td>1309367.56</td>\n",
       "      <td>681458</td>\n",
       "    </tr>\n",
       "    <tr>\n",
       "      <th>30</th>\n",
       "      <td>NorthernNewEngland</td>\n",
       "      <td>7.153289e+07</td>\n",
       "      <td>2.703231e+06</td>\n",
       "      <td>5.360925e+07</td>\n",
       "      <td>1.315387e+06</td>\n",
       "      <td>1.390503e+07</td>\n",
       "      <td>1.127697e+07</td>\n",
       "      <td>2.517406e+06</td>\n",
       "      <td>110650.28</td>\n",
       "      <td>681458</td>\n",
       "    </tr>\n",
       "    <tr>\n",
       "      <th>31</th>\n",
       "      <td>Orlando</td>\n",
       "      <td>5.866070e+07</td>\n",
       "      <td>3.339091e+07</td>\n",
       "      <td>8.359597e+06</td>\n",
       "      <td>4.856253e+04</td>\n",
       "      <td>1.686164e+07</td>\n",
       "      <td>8.927879e+06</td>\n",
       "      <td>7.690514e+06</td>\n",
       "      <td>243247.03</td>\n",
       "      <td>681458</td>\n",
       "    </tr>\n",
       "    <tr>\n",
       "      <th>32</th>\n",
       "      <td>Philadelphia</td>\n",
       "      <td>7.183880e+07</td>\n",
       "      <td>4.615201e+06</td>\n",
       "      <td>4.274843e+07</td>\n",
       "      <td>5.999311e+05</td>\n",
       "      <td>2.387523e+07</td>\n",
       "      <td>2.141702e+07</td>\n",
       "      <td>2.352056e+06</td>\n",
       "      <td>106151.72</td>\n",
       "      <td>681458</td>\n",
       "    </tr>\n",
       "    <tr>\n",
       "      <th>33</th>\n",
       "      <td>PhoenixTucson</td>\n",
       "      <td>1.956433e+08</td>\n",
       "      <td>1.154277e+08</td>\n",
       "      <td>3.915799e+07</td>\n",
       "      <td>2.149380e+06</td>\n",
       "      <td>3.890824e+07</td>\n",
       "      <td>2.227263e+07</td>\n",
       "      <td>1.648070e+07</td>\n",
       "      <td>154908.38</td>\n",
       "      <td>681458</td>\n",
       "    </tr>\n",
       "    <tr>\n",
       "      <th>34</th>\n",
       "      <td>Pittsburgh</td>\n",
       "      <td>1.880635e+07</td>\n",
       "      <td>3.972436e+06</td>\n",
       "      <td>7.301481e+06</td>\n",
       "      <td>2.869658e+05</td>\n",
       "      <td>7.245462e+06</td>\n",
       "      <td>5.408180e+06</td>\n",
       "      <td>1.779697e+06</td>\n",
       "      <td>57585.02</td>\n",
       "      <td>681458</td>\n",
       "    </tr>\n",
       "    <tr>\n",
       "      <th>35</th>\n",
       "      <td>Plains</td>\n",
       "      <td>3.111885e+08</td>\n",
       "      <td>1.435114e+08</td>\n",
       "      <td>8.733534e+07</td>\n",
       "      <td>2.494474e+06</td>\n",
       "      <td>7.784720e+07</td>\n",
       "      <td>6.876062e+07</td>\n",
       "      <td>7.973644e+06</td>\n",
       "      <td>1112937.29</td>\n",
       "      <td>681458</td>\n",
       "    </tr>\n",
       "    <tr>\n",
       "      <th>36</th>\n",
       "      <td>Portland</td>\n",
       "      <td>1.105522e+08</td>\n",
       "      <td>2.320793e+07</td>\n",
       "      <td>3.498566e+07</td>\n",
       "      <td>2.854265e+06</td>\n",
       "      <td>4.950436e+07</td>\n",
       "      <td>4.150862e+07</td>\n",
       "      <td>7.917725e+06</td>\n",
       "      <td>78012.09</td>\n",
       "      <td>681458</td>\n",
       "    </tr>\n",
       "    <tr>\n",
       "      <th>37</th>\n",
       "      <td>RaleighGreensboro</td>\n",
       "      <td>4.820273e+07</td>\n",
       "      <td>1.182081e+07</td>\n",
       "      <td>1.667812e+07</td>\n",
       "      <td>4.027114e+06</td>\n",
       "      <td>1.567668e+07</td>\n",
       "      <td>1.504048e+07</td>\n",
       "      <td>5.411461e+05</td>\n",
       "      <td>95048.10</td>\n",
       "      <td>681458</td>\n",
       "    </tr>\n",
       "    <tr>\n",
       "      <th>38</th>\n",
       "      <td>RichmondNorfolk</td>\n",
       "      <td>4.223085e+07</td>\n",
       "      <td>1.247685e+07</td>\n",
       "      <td>1.607636e+07</td>\n",
       "      <td>1.169414e+06</td>\n",
       "      <td>1.250823e+07</td>\n",
       "      <td>1.165650e+07</td>\n",
       "      <td>7.279409e+05</td>\n",
       "      <td>123783.85</td>\n",
       "      <td>681458</td>\n",
       "    </tr>\n",
       "    <tr>\n",
       "      <th>39</th>\n",
       "      <td>Roanoke</td>\n",
       "      <td>2.504201e+07</td>\n",
       "      <td>7.452946e+06</td>\n",
       "      <td>7.971539e+06</td>\n",
       "      <td>2.653218e+04</td>\n",
       "      <td>9.590988e+06</td>\n",
       "      <td>8.456339e+06</td>\n",
       "      <td>1.055164e+06</td>\n",
       "      <td>79483.35</td>\n",
       "      <td>681458</td>\n",
       "    </tr>\n",
       "    <tr>\n",
       "      <th>40</th>\n",
       "      <td>Sacramento</td>\n",
       "      <td>7.516375e+07</td>\n",
       "      <td>2.345140e+07</td>\n",
       "      <td>4.117691e+07</td>\n",
       "      <td>1.553161e+06</td>\n",
       "      <td>8.982268e+06</td>\n",
       "      <td>8.696841e+06</td>\n",
       "      <td>7.671504e+04</td>\n",
       "      <td>208711.11</td>\n",
       "      <td>681458</td>\n",
       "    </tr>\n",
       "    <tr>\n",
       "      <th>41</th>\n",
       "      <td>SanDiego</td>\n",
       "      <td>8.979192e+07</td>\n",
       "      <td>3.408267e+07</td>\n",
       "      <td>2.925846e+07</td>\n",
       "      <td>3.108122e+06</td>\n",
       "      <td>2.334267e+07</td>\n",
       "      <td>2.027579e+07</td>\n",
       "      <td>2.921824e+06</td>\n",
       "      <td>145054.97</td>\n",
       "      <td>681458</td>\n",
       "    </tr>\n",
       "    <tr>\n",
       "      <th>42</th>\n",
       "      <td>SanFrancisco</td>\n",
       "      <td>1.358302e+08</td>\n",
       "      <td>3.413689e+07</td>\n",
       "      <td>8.315306e+07</td>\n",
       "      <td>3.649315e+06</td>\n",
       "      <td>1.489092e+07</td>\n",
       "      <td>1.450235e+07</td>\n",
       "      <td>1.769392e+05</td>\n",
       "      <td>211634.59</td>\n",
       "      <td>681458</td>\n",
       "    </tr>\n",
       "    <tr>\n",
       "      <th>43</th>\n",
       "      <td>Seattle</td>\n",
       "      <td>1.092142e+08</td>\n",
       "      <td>2.146665e+07</td>\n",
       "      <td>3.604078e+07</td>\n",
       "      <td>1.015345e+06</td>\n",
       "      <td>5.069140e+07</td>\n",
       "      <td>4.244714e+07</td>\n",
       "      <td>8.175948e+06</td>\n",
       "      <td>68310.44</td>\n",
       "      <td>681458</td>\n",
       "    </tr>\n",
       "    <tr>\n",
       "      <th>44</th>\n",
       "      <td>SouthCarolina</td>\n",
       "      <td>6.075377e+07</td>\n",
       "      <td>2.841036e+07</td>\n",
       "      <td>1.263186e+07</td>\n",
       "      <td>1.558374e+06</td>\n",
       "      <td>1.815317e+07</td>\n",
       "      <td>1.341335e+07</td>\n",
       "      <td>4.513256e+06</td>\n",
       "      <td>226570.63</td>\n",
       "      <td>681458</td>\n",
       "    </tr>\n",
       "    <tr>\n",
       "      <th>45</th>\n",
       "      <td>SouthCentral</td>\n",
       "      <td>1.011280e+09</td>\n",
       "      <td>5.350414e+08</td>\n",
       "      <td>2.204500e+08</td>\n",
       "      <td>2.239579e+07</td>\n",
       "      <td>2.333924e+08</td>\n",
       "      <td>1.848155e+08</td>\n",
       "      <td>4.593684e+07</td>\n",
       "      <td>2640111.14</td>\n",
       "      <td>681458</td>\n",
       "    </tr>\n",
       "    <tr>\n",
       "      <th>46</th>\n",
       "      <td>Southeast</td>\n",
       "      <td>6.152384e+08</td>\n",
       "      <td>3.396871e+08</td>\n",
       "      <td>9.086044e+07</td>\n",
       "      <td>3.163231e+06</td>\n",
       "      <td>1.815276e+08</td>\n",
       "      <td>1.069033e+08</td>\n",
       "      <td>7.210761e+07</td>\n",
       "      <td>2516762.93</td>\n",
       "      <td>681458</td>\n",
       "    </tr>\n",
       "    <tr>\n",
       "      <th>47</th>\n",
       "      <td>Spokane</td>\n",
       "      <td>1.556528e+07</td>\n",
       "      <td>4.104071e+06</td>\n",
       "      <td>4.926610e+06</td>\n",
       "      <td>2.802191e+05</td>\n",
       "      <td>6.254376e+06</td>\n",
       "      <td>5.368312e+06</td>\n",
       "      <td>8.788816e+05</td>\n",
       "      <td>7182.72</td>\n",
       "      <td>681458</td>\n",
       "    </tr>\n",
       "    <tr>\n",
       "      <th>48</th>\n",
       "      <td>StLouis</td>\n",
       "      <td>3.207283e+07</td>\n",
       "      <td>1.351085e+07</td>\n",
       "      <td>3.799460e+06</td>\n",
       "      <td>2.648867e+04</td>\n",
       "      <td>1.473603e+07</td>\n",
       "      <td>1.193186e+07</td>\n",
       "      <td>2.579377e+06</td>\n",
       "      <td>224797.89</td>\n",
       "      <td>681458</td>\n",
       "    </tr>\n",
       "    <tr>\n",
       "      <th>49</th>\n",
       "      <td>Syracuse</td>\n",
       "      <td>1.094267e+07</td>\n",
       "      <td>3.317887e+05</td>\n",
       "      <td>6.390341e+06</td>\n",
       "      <td>2.811058e+04</td>\n",
       "      <td>4.192427e+06</td>\n",
       "      <td>3.645651e+06</td>\n",
       "      <td>5.050151e+05</td>\n",
       "      <td>41761.94</td>\n",
       "      <td>681458</td>\n",
       "    </tr>\n",
       "    <tr>\n",
       "      <th>50</th>\n",
       "      <td>Tampa</td>\n",
       "      <td>6.600454e+07</td>\n",
       "      <td>3.574775e+07</td>\n",
       "      <td>1.072111e+07</td>\n",
       "      <td>3.898951e+04</td>\n",
       "      <td>1.949669e+07</td>\n",
       "      <td>1.060807e+07</td>\n",
       "      <td>8.653438e+06</td>\n",
       "      <td>235178.73</td>\n",
       "      <td>681458</td>\n",
       "    </tr>\n",
       "    <tr>\n",
       "      <th>51</th>\n",
       "      <td>TotalUS</td>\n",
       "      <td>5.864740e+09</td>\n",
       "      <td>2.054936e+09</td>\n",
       "      <td>2.015012e+09</td>\n",
       "      <td>1.561752e+08</td>\n",
       "      <td>1.638601e+09</td>\n",
       "      <td>1.243561e+09</td>\n",
       "      <td>3.735843e+08</td>\n",
       "      <td>21455230.54</td>\n",
       "      <td>681458</td>\n",
       "    </tr>\n",
       "    <tr>\n",
       "      <th>52</th>\n",
       "      <td>West</td>\n",
       "      <td>1.086779e+09</td>\n",
       "      <td>3.985905e+08</td>\n",
       "      <td>3.007589e+08</td>\n",
       "      <td>2.035607e+07</td>\n",
       "      <td>3.670736e+08</td>\n",
       "      <td>2.227093e+08</td>\n",
       "      <td>1.435317e+08</td>\n",
       "      <td>832634.65</td>\n",
       "      <td>681458</td>\n",
       "    </tr>\n",
       "    <tr>\n",
       "      <th>53</th>\n",
       "      <td>WestTexNewMexico</td>\n",
       "      <td>1.445218e+08</td>\n",
       "      <td>8.407739e+07</td>\n",
       "      <td>2.217846e+07</td>\n",
       "      <td>2.969474e+06</td>\n",
       "      <td>3.529652e+07</td>\n",
       "      <td>1.993176e+07</td>\n",
       "      <td>1.505125e+07</td>\n",
       "      <td>313511.05</td>\n",
       "      <td>675409</td>\n",
       "    </tr>\n",
       "  </tbody>\n",
       "</table>\n",
       "</div>"
      ],
      "text/plain": [
       "                 region  Total Volume          4046          4225  \\\n",
       "0                Albany  1.606780e+07  6.165396e+05  1.271597e+07   \n",
       "1               Atlanta  8.860512e+07  4.938750e+07  1.055186e+07   \n",
       "2   BaltimoreWashington  1.347139e+08  1.205180e+07  8.314222e+07   \n",
       "3                 Boise  1.441319e+07  6.766594e+06  1.170049e+06   \n",
       "4                Boston  9.727398e+07  1.688178e+06  7.240631e+07   \n",
       "5      BuffaloRochester  2.296247e+07  6.005149e+05  1.070242e+07   \n",
       "6            California  1.028982e+09  3.989670e+08  3.514914e+08   \n",
       "7             Charlotte  3.555554e+07  7.563811e+06  1.238027e+07   \n",
       "8               Chicago  1.337023e+08  1.084408e+07  8.602744e+07   \n",
       "9      CincinnatiDayton  4.452201e+07  1.829154e+06  2.063791e+07   \n",
       "10             Columbus  2.999336e+07  1.258613e+07  5.715680e+06   \n",
       "11        DallasFtWorth  2.084193e+08  1.105565e+08  4.717049e+07   \n",
       "12               Denver  1.389025e+08  2.642885e+07  5.081051e+07   \n",
       "13              Detroit  6.342242e+07  1.878315e+07  1.176218e+07   \n",
       "14          GrandRapids  3.021174e+07  4.932665e+05  1.724153e+07   \n",
       "15           GreatLakes  5.896425e+08  9.371701e+07  2.672577e+08   \n",
       "16   HarrisburgScranton  4.180886e+07  7.515521e+06  2.068974e+07   \n",
       "17  HartfordSpringfield  5.067054e+07  1.319654e+06  3.784762e+07   \n",
       "18              Houston  2.031679e+08  9.977290e+07  4.772443e+07   \n",
       "19         Indianapolis  3.026339e+07  2.425510e+06  1.446384e+07   \n",
       "20         Jacksonville  2.879000e+07  1.547171e+07  3.526740e+06   \n",
       "21             LasVegas  5.437691e+07  1.978713e+07  1.536442e+07   \n",
       "22           LosAngeles  5.078965e+08  2.238794e+08  1.021340e+08   \n",
       "23           Louisville  1.609700e+07  7.095510e+05  8.412668e+06   \n",
       "24    MiamiFtLauderdale  9.767322e+07  5.914010e+07  1.491128e+07   \n",
       "25             Midsouth  5.083494e+08  1.104306e+08  2.223731e+08   \n",
       "26            Nashville  3.561209e+07  1.818888e+07  3.810509e+06   \n",
       "27     NewOrleansMobile  4.569514e+07  2.680474e+07  4.413219e+06   \n",
       "28              NewYork  2.407341e+08  7.639327e+06  1.633538e+08   \n",
       "29            Northeast  7.132809e+08  3.499121e+07  4.744847e+08   \n",
       "30   NorthernNewEngland  7.153289e+07  2.703231e+06  5.360925e+07   \n",
       "31              Orlando  5.866070e+07  3.339091e+07  8.359597e+06   \n",
       "32         Philadelphia  7.183880e+07  4.615201e+06  4.274843e+07   \n",
       "33        PhoenixTucson  1.956433e+08  1.154277e+08  3.915799e+07   \n",
       "34           Pittsburgh  1.880635e+07  3.972436e+06  7.301481e+06   \n",
       "35               Plains  3.111885e+08  1.435114e+08  8.733534e+07   \n",
       "36             Portland  1.105522e+08  2.320793e+07  3.498566e+07   \n",
       "37    RaleighGreensboro  4.820273e+07  1.182081e+07  1.667812e+07   \n",
       "38      RichmondNorfolk  4.223085e+07  1.247685e+07  1.607636e+07   \n",
       "39              Roanoke  2.504201e+07  7.452946e+06  7.971539e+06   \n",
       "40           Sacramento  7.516375e+07  2.345140e+07  4.117691e+07   \n",
       "41             SanDiego  8.979192e+07  3.408267e+07  2.925846e+07   \n",
       "42         SanFrancisco  1.358302e+08  3.413689e+07  8.315306e+07   \n",
       "43              Seattle  1.092142e+08  2.146665e+07  3.604078e+07   \n",
       "44        SouthCarolina  6.075377e+07  2.841036e+07  1.263186e+07   \n",
       "45         SouthCentral  1.011280e+09  5.350414e+08  2.204500e+08   \n",
       "46            Southeast  6.152384e+08  3.396871e+08  9.086044e+07   \n",
       "47              Spokane  1.556528e+07  4.104071e+06  4.926610e+06   \n",
       "48              StLouis  3.207283e+07  1.351085e+07  3.799460e+06   \n",
       "49             Syracuse  1.094267e+07  3.317887e+05  6.390341e+06   \n",
       "50                Tampa  6.600454e+07  3.574775e+07  1.072111e+07   \n",
       "51              TotalUS  5.864740e+09  2.054936e+09  2.015012e+09   \n",
       "52                 West  1.086779e+09  3.985905e+08  3.007589e+08   \n",
       "53     WestTexNewMexico  1.445218e+08  8.407739e+07  2.217846e+07   \n",
       "\n",
       "            4770    Total Bags    Small Bags    Large Bags  XLarge Bags  \\\n",
       "0   5.503733e+04  2.680255e+06  2.246945e+06  3.898817e+05     43429.16   \n",
       "1   1.052484e+05  2.856051e+07  1.744274e+07  1.083968e+07    278101.68   \n",
       "2   4.213755e+06  3.530615e+07  3.411761e+07  9.815468e+05    206985.36   \n",
       "3   1.077134e+06  5.399412e+06  4.677933e+06  7.110283e+05     10449.34   \n",
       "4   1.684016e+06  2.149548e+07  1.991043e+07  1.500167e+06     84879.99   \n",
       "5   4.878556e+04  1.161075e+07  1.026843e+07  1.260419e+06     81901.94   \n",
       "6   3.184105e+07  2.466822e+08  2.290977e+08  1.231194e+07   5272577.91   \n",
       "7   3.913522e+06  1.169794e+07  1.064385e+07  9.844872e+05     69603.59   \n",
       "8   1.996539e+07  1.686540e+07  1.479465e+07  1.691875e+06    378872.71   \n",
       "9   1.156307e+06  2.089792e+07  5.661894e+06  1.497219e+07    263830.73   \n",
       "10  1.675076e+06  1.001639e+07  8.070793e+06  1.724880e+06    220715.52   \n",
       "11  4.222574e+06  4.646975e+07  4.082174e+07  5.215721e+06    432293.08   \n",
       "12  2.706165e+06  5.895701e+07  1.876361e+07  4.014092e+07     52481.28   \n",
       "13  8.614803e+06  2.426007e+07  1.993907e+07  2.671969e+06   1649024.44   \n",
       "14  3.307837e+06  9.169094e+06  7.533477e+06  7.968005e+05    838815.37   \n",
       "15  5.007597e+07  1.785756e+08  1.232875e+08  4.889564e+07   6392523.96   \n",
       "16  7.434063e+04  1.352925e+07  1.277287e+07  6.017657e+05    154618.16   \n",
       "17  1.702536e+05  1.133301e+07  1.077856e+07  4.768482e+05     77601.72   \n",
       "18  5.455471e+06  5.021506e+07  3.252517e+07  1.736376e+07    326132.75   \n",
       "19  1.391161e+06  1.198081e+07  6.611064e+06  5.086256e+06    283489.96   \n",
       "20  7.342605e+04  9.718127e+06  4.339787e+06  5.273004e+06    105335.77   \n",
       "21  1.172357e+06  1.805299e+07  8.977623e+06  9.059315e+06     16054.32   \n",
       "22  1.361869e+07  1.682645e+08  1.557261e+08  8.463145e+06   4075279.95   \n",
       "23  3.394966e+05  6.635289e+06  2.814241e+06  3.713125e+06    107922.98   \n",
       "24  1.054005e+05  2.351644e+07  1.121997e+07  1.199081e+07    305657.99   \n",
       "25  1.903196e+07  1.565136e+08  1.343644e+08  2.077087e+07   1378317.13   \n",
       "26  6.455284e+05  1.296717e+07  1.004279e+07  2.812894e+06    111486.16   \n",
       "27  2.082379e+05  1.426894e+07  1.185955e+07  1.896699e+06    512688.70   \n",
       "28  1.746802e+06  6.799416e+07  5.840168e+07  9.232998e+06    359477.68   \n",
       "29  6.816645e+06  1.969884e+08  1.736230e+08  2.205605e+07   1309367.56   \n",
       "30  1.315387e+06  1.390503e+07  1.127697e+07  2.517406e+06    110650.28   \n",
       "31  4.856253e+04  1.686164e+07  8.927879e+06  7.690514e+06    243247.03   \n",
       "32  5.999311e+05  2.387523e+07  2.141702e+07  2.352056e+06    106151.72   \n",
       "33  2.149380e+06  3.890824e+07  2.227263e+07  1.648070e+07    154908.38   \n",
       "34  2.869658e+05  7.245462e+06  5.408180e+06  1.779697e+06     57585.02   \n",
       "35  2.494474e+06  7.784720e+07  6.876062e+07  7.973644e+06   1112937.29   \n",
       "36  2.854265e+06  4.950436e+07  4.150862e+07  7.917725e+06     78012.09   \n",
       "37  4.027114e+06  1.567668e+07  1.504048e+07  5.411461e+05     95048.10   \n",
       "38  1.169414e+06  1.250823e+07  1.165650e+07  7.279409e+05    123783.85   \n",
       "39  2.653218e+04  9.590988e+06  8.456339e+06  1.055164e+06     79483.35   \n",
       "40  1.553161e+06  8.982268e+06  8.696841e+06  7.671504e+04    208711.11   \n",
       "41  3.108122e+06  2.334267e+07  2.027579e+07  2.921824e+06    145054.97   \n",
       "42  3.649315e+06  1.489092e+07  1.450235e+07  1.769392e+05    211634.59   \n",
       "43  1.015345e+06  5.069140e+07  4.244714e+07  8.175948e+06     68310.44   \n",
       "44  1.558374e+06  1.815317e+07  1.341335e+07  4.513256e+06    226570.63   \n",
       "45  2.239579e+07  2.333924e+08  1.848155e+08  4.593684e+07   2640111.14   \n",
       "46  3.163231e+06  1.815276e+08  1.069033e+08  7.210761e+07   2516762.93   \n",
       "47  2.802191e+05  6.254376e+06  5.368312e+06  8.788816e+05      7182.72   \n",
       "48  2.648867e+04  1.473603e+07  1.193186e+07  2.579377e+06    224797.89   \n",
       "49  2.811058e+04  4.192427e+06  3.645651e+06  5.050151e+05     41761.94   \n",
       "50  3.898951e+04  1.949669e+07  1.060807e+07  8.653438e+06    235178.73   \n",
       "51  1.561752e+08  1.638601e+09  1.243561e+09  3.735843e+08  21455230.54   \n",
       "52  2.035607e+07  3.670736e+08  2.227093e+08  1.435317e+08    832634.65   \n",
       "53  2.969474e+06  3.529652e+07  1.993176e+07  1.505125e+07    313511.05   \n",
       "\n",
       "      year  \n",
       "0   681458  \n",
       "1   681458  \n",
       "2   681458  \n",
       "3   681458  \n",
       "4   681458  \n",
       "5   681458  \n",
       "6   681458  \n",
       "7   681458  \n",
       "8   681458  \n",
       "9   681458  \n",
       "10  681458  \n",
       "11  681458  \n",
       "12  681458  \n",
       "13  681458  \n",
       "14  681458  \n",
       "15  681458  \n",
       "16  681458  \n",
       "17  681458  \n",
       "18  681458  \n",
       "19  681458  \n",
       "20  681458  \n",
       "21  681458  \n",
       "22  681458  \n",
       "23  681458  \n",
       "24  681458  \n",
       "25  681458  \n",
       "26  681458  \n",
       "27  681458  \n",
       "28  681458  \n",
       "29  681458  \n",
       "30  681458  \n",
       "31  681458  \n",
       "32  681458  \n",
       "33  681458  \n",
       "34  681458  \n",
       "35  681458  \n",
       "36  681458  \n",
       "37  681458  \n",
       "38  681458  \n",
       "39  681458  \n",
       "40  681458  \n",
       "41  681458  \n",
       "42  681458  \n",
       "43  681458  \n",
       "44  681458  \n",
       "45  681458  \n",
       "46  681458  \n",
       "47  681458  \n",
       "48  681458  \n",
       "49  681458  \n",
       "50  681458  \n",
       "51  681458  \n",
       "52  681458  \n",
       "53  675409  "
      ]
     },
     "execution_count": 15,
     "metadata": {},
     "output_type": "execute_result"
    }
   ],
   "source": [
    "#by region, different granularity\n",
    "by_region = df.groupby(\"region\").sum().reset_index()\n",
    "by_region"
   ]
  },
  {
   "cell_type": "code",
   "execution_count": 16,
   "metadata": {},
   "outputs": [
    {
     "data": {
      "text/html": [
       "<div>\n",
       "<style scoped>\n",
       "    .dataframe tbody tr th:only-of-type {\n",
       "        vertical-align: middle;\n",
       "    }\n",
       "\n",
       "    .dataframe tbody tr th {\n",
       "        vertical-align: top;\n",
       "    }\n",
       "\n",
       "    .dataframe thead th {\n",
       "        text-align: right;\n",
       "    }\n",
       "</style>\n",
       "<table border=\"1\" class=\"dataframe\">\n",
       "  <thead>\n",
       "    <tr style=\"text-align: right;\">\n",
       "      <th></th>\n",
       "      <th>region</th>\n",
       "      <th>Total Volume</th>\n",
       "      <th>4046</th>\n",
       "      <th>4225</th>\n",
       "      <th>4770</th>\n",
       "      <th>Total Bags</th>\n",
       "      <th>Small Bags</th>\n",
       "      <th>Large Bags</th>\n",
       "      <th>XLarge Bags</th>\n",
       "      <th>year</th>\n",
       "    </tr>\n",
       "  </thead>\n",
       "  <tbody>\n",
       "    <tr>\n",
       "      <th>25</th>\n",
       "      <td>Midsouth</td>\n",
       "      <td>5.083494e+08</td>\n",
       "      <td>1.104306e+08</td>\n",
       "      <td>2.223731e+08</td>\n",
       "      <td>19031957.33</td>\n",
       "      <td>1.565136e+08</td>\n",
       "      <td>1.343644e+08</td>\n",
       "      <td>2.077087e+07</td>\n",
       "      <td>1378317.13</td>\n",
       "      <td>681458</td>\n",
       "    </tr>\n",
       "    <tr>\n",
       "      <th>29</th>\n",
       "      <td>Northeast</td>\n",
       "      <td>7.132809e+08</td>\n",
       "      <td>3.499121e+07</td>\n",
       "      <td>4.744847e+08</td>\n",
       "      <td>6816644.64</td>\n",
       "      <td>1.969884e+08</td>\n",
       "      <td>1.736230e+08</td>\n",
       "      <td>2.205605e+07</td>\n",
       "      <td>1309367.56</td>\n",
       "      <td>681458</td>\n",
       "    </tr>\n",
       "    <tr>\n",
       "      <th>45</th>\n",
       "      <td>SouthCentral</td>\n",
       "      <td>1.011280e+09</td>\n",
       "      <td>5.350414e+08</td>\n",
       "      <td>2.204500e+08</td>\n",
       "      <td>22395793.74</td>\n",
       "      <td>2.333924e+08</td>\n",
       "      <td>1.848155e+08</td>\n",
       "      <td>4.593684e+07</td>\n",
       "      <td>2640111.14</td>\n",
       "      <td>681458</td>\n",
       "    </tr>\n",
       "    <tr>\n",
       "      <th>46</th>\n",
       "      <td>Southeast</td>\n",
       "      <td>6.152384e+08</td>\n",
       "      <td>3.396871e+08</td>\n",
       "      <td>9.086044e+07</td>\n",
       "      <td>3163230.64</td>\n",
       "      <td>1.815276e+08</td>\n",
       "      <td>1.069033e+08</td>\n",
       "      <td>7.210761e+07</td>\n",
       "      <td>2516762.93</td>\n",
       "      <td>681458</td>\n",
       "    </tr>\n",
       "    <tr>\n",
       "      <th>52</th>\n",
       "      <td>West</td>\n",
       "      <td>1.086779e+09</td>\n",
       "      <td>3.985905e+08</td>\n",
       "      <td>3.007589e+08</td>\n",
       "      <td>20356070.87</td>\n",
       "      <td>3.670736e+08</td>\n",
       "      <td>2.227093e+08</td>\n",
       "      <td>1.435317e+08</td>\n",
       "      <td>832634.65</td>\n",
       "      <td>681458</td>\n",
       "    </tr>\n",
       "  </tbody>\n",
       "</table>\n",
       "</div>"
      ],
      "text/plain": [
       "          region  Total Volume          4046          4225         4770  \\\n",
       "25      Midsouth  5.083494e+08  1.104306e+08  2.223731e+08  19031957.33   \n",
       "29     Northeast  7.132809e+08  3.499121e+07  4.744847e+08   6816644.64   \n",
       "45  SouthCentral  1.011280e+09  5.350414e+08  2.204500e+08  22395793.74   \n",
       "46     Southeast  6.152384e+08  3.396871e+08  9.086044e+07   3163230.64   \n",
       "52          West  1.086779e+09  3.985905e+08  3.007589e+08  20356070.87   \n",
       "\n",
       "      Total Bags    Small Bags    Large Bags  XLarge Bags    year  \n",
       "25  1.565136e+08  1.343644e+08  2.077087e+07   1378317.13  681458  \n",
       "29  1.969884e+08  1.736230e+08  2.205605e+07   1309367.56  681458  \n",
       "45  2.333924e+08  1.848155e+08  4.593684e+07   2640111.14  681458  \n",
       "46  1.815276e+08  1.069033e+08  7.210761e+07   2516762.93  681458  \n",
       "52  3.670736e+08  2.227093e+08  1.435317e+08    832634.65  681458  "
      ]
     },
     "execution_count": 16,
     "metadata": {},
     "output_type": "execute_result"
    }
   ],
   "source": [
    "#First take a look at rough regions: Mid South, Northeast, South Central, Southeast, West\n",
    "region1 = by_region[by_region[\"region\"].apply(lambda x: x in [\"Midsouth\", \"Northeast\", \"SouthCentral\", \"Southeast\", \"West\"])]\n",
    "region1.head()"
   ]
  },
  {
   "cell_type": "code",
   "execution_count": 17,
   "metadata": {},
   "outputs": [
    {
     "data": {
      "image/png": "[encoded data removed]",
      "text/plain": [
       "<Figure size 1152x720 with 8 Axes>"
      ]
     },
     "metadata": {
      "needs_background": "light"
     },
     "output_type": "display_data"
    }
   ],
   "source": [
    "fig,ax=plt.subplots(nrows = 2,ncols=4,figsize=(16,10))\n",
    "c = 0\n",
    "r=0\n",
    "for i in np.arange(1,9):\n",
    "    if c<3:\n",
    "        p = sns.barplot(region1[\"region\"],region1[region1.columns[i]], ax = ax[r][c])\n",
    "        for tick in p.get_xticklabels():\n",
    "            tick.set_rotation(45)\n",
    "        \n",
    "        c+=1\n",
    "    else:\n",
    "        if r == 0:\n",
    "            p=sns.barplot(region1[\"region\"],region1[region1.columns[i]], ax = ax[r][c])\n",
    "            for tick in p.get_xticklabels():\n",
    "                tick.set_rotation(45)\n",
    "            r = 1\n",
    "            c=0\n",
    "        elif r==1:\n",
    "            p=sns.barplot(region1[\"region\"],region1[region1.columns[i]], ax = ax[r][c])\n",
    "            for tick in p.get_xticklabels():\n",
    "                tick.set_rotation(45)"
   ]
  },
  {
   "cell_type": "markdown",
   "metadata": {},
   "source": [
    "For total volumes, West stood out and followed by South Central. West outperforms South Central by having more volume for PLU 4225. A lot more bags were located in West than other regions, the same for small bags and large bags specifically. For X-large bags, Southern regions contain many more bags."
   ]
  },
  {
   "cell_type": "code",
   "execution_count": 18,
   "metadata": {},
   "outputs": [
    {
     "data": {
      "text/html": [
       "<div>\n",
       "<style scoped>\n",
       "    .dataframe tbody tr th:only-of-type {\n",
       "        vertical-align: middle;\n",
       "    }\n",
       "\n",
       "    .dataframe tbody tr th {\n",
       "        vertical-align: top;\n",
       "    }\n",
       "\n",
       "    .dataframe thead th {\n",
       "        text-align: right;\n",
       "    }\n",
       "</style>\n",
       "<table border=\"1\" class=\"dataframe\">\n",
       "  <thead>\n",
       "    <tr style=\"text-align: right;\">\n",
       "      <th></th>\n",
       "      <th>quarter</th>\n",
       "      <th>Total Volume</th>\n",
       "      <th>4046</th>\n",
       "      <th>4225</th>\n",
       "      <th>4770</th>\n",
       "      <th>Total Bags</th>\n",
       "      <th>Small Bags</th>\n",
       "      <th>Large Bags</th>\n",
       "      <th>XLarge Bags</th>\n",
       "      <th>year</th>\n",
       "    </tr>\n",
       "  </thead>\n",
       "  <tbody>\n",
       "    <tr>\n",
       "      <th>0</th>\n",
       "      <td>1</td>\n",
       "      <td>5.141012e+09</td>\n",
       "      <td>1.754567e+09</td>\n",
       "      <td>1.781253e+09</td>\n",
       "      <td>1.405034e+08</td>\n",
       "      <td>1.464677e+09</td>\n",
       "      <td>1.108495e+09</td>\n",
       "      <td>3.401889e+08</td>\n",
       "      <td>15993118.03</td>\n",
       "      <td>11106720</td>\n",
       "    </tr>\n",
       "    <tr>\n",
       "      <th>1</th>\n",
       "      <td>2</td>\n",
       "      <td>3.909102e+09</td>\n",
       "      <td>1.407044e+09</td>\n",
       "      <td>1.309634e+09</td>\n",
       "      <td>1.167400e+08</td>\n",
       "      <td>1.075685e+09</td>\n",
       "      <td>8.210604e+08</td>\n",
       "      <td>2.395341e+08</td>\n",
       "      <td>15090351.56</td>\n",
       "      <td>8487358</td>\n",
       "    </tr>\n",
       "    <tr>\n",
       "      <th>2</th>\n",
       "      <td>3</td>\n",
       "      <td>3.403557e+09</td>\n",
       "      <td>1.184995e+09</td>\n",
       "      <td>1.199368e+09</td>\n",
       "      <td>8.719973e+07</td>\n",
       "      <td>9.319793e+08</td>\n",
       "      <td>7.253599e+08</td>\n",
       "      <td>1.890115e+08</td>\n",
       "      <td>17607831.59</td>\n",
       "      <td>8491392</td>\n",
       "    </tr>\n",
       "    <tr>\n",
       "      <th>3</th>\n",
       "      <td>4</td>\n",
       "      <td>3.069731e+09</td>\n",
       "      <td>1.000504e+09</td>\n",
       "      <td>1.096021e+09</td>\n",
       "      <td>7.235924e+07</td>\n",
       "      <td>9.008351e+08</td>\n",
       "      <td>6.699559e+08</td>\n",
       "      <td>2.228813e+08</td>\n",
       "      <td>7997876.15</td>\n",
       "      <td>8707213</td>\n",
       "    </tr>\n",
       "  </tbody>\n",
       "</table>\n",
       "</div>"
      ],
      "text/plain": [
       "  quarter  Total Volume          4046          4225          4770  \\\n",
       "0       1  5.141012e+09  1.754567e+09  1.781253e+09  1.405034e+08   \n",
       "1       2  3.909102e+09  1.407044e+09  1.309634e+09  1.167400e+08   \n",
       "2       3  3.403557e+09  1.184995e+09  1.199368e+09  8.719973e+07   \n",
       "3       4  3.069731e+09  1.000504e+09  1.096021e+09  7.235924e+07   \n",
       "\n",
       "     Total Bags    Small Bags    Large Bags  XLarge Bags      year  \n",
       "0  1.464677e+09  1.108495e+09  3.401889e+08  15993118.03  11106720  \n",
       "1  1.075685e+09  8.210604e+08  2.395341e+08  15090351.56   8487358  \n",
       "2  9.319793e+08  7.253599e+08  1.890115e+08  17607831.59   8491392  \n",
       "3  9.008351e+08  6.699559e+08  2.228813e+08   7997876.15   8707213  "
      ]
     },
     "execution_count": 18,
     "metadata": {},
     "output_type": "execute_result"
    }
   ],
   "source": [
    "#by quarter\n",
    "by_quarter = df.groupby(\"quarter\").sum().reset_index()\n",
    "by_quarter"
   ]
  },
  {
   "cell_type": "code",
   "execution_count": 19,
   "metadata": {},
   "outputs": [
    {
     "data": {
      "image/png": "[encoded data removed]",
      "text/plain": [
       "<Figure size 1296x720 with 8 Axes>"
      ]
     },
     "metadata": {
      "needs_background": "light"
     },
     "output_type": "display_data"
    }
   ],
   "source": [
    "fig,ax=plt.subplots(nrows = 2,ncols=4,figsize=(18,10))\n",
    "c = 0\n",
    "r=0\n",
    "for i in np.arange(1,9):\n",
    "    if c<3:\n",
    "        p = sns.barplot(by_quarter[\"quarter\"],by_quarter[by_quarter.columns[i]], ax = ax[r][c])  \n",
    "        c+=1\n",
    "    else:\n",
    "        if r == 0:\n",
    "            p=sns.barplot(by_quarter[\"quarter\"],by_quarter[by_quarter.columns[i]], ax = ax[r][c])\n",
    "\n",
    "            r = 1\n",
    "            c=0\n",
    "        elif r==1:\n",
    "            p=sns.barplot(by_quarter[\"quarter\"],by_quarter[by_quarter.columns[i]], ax = ax[r][c])\n"
   ]
  },
  {
   "cell_type": "markdown",
   "metadata": {},
   "source": [
    "Patterns are almost consistent, with quarter 1 having the most volume and number of bags."
   ]
  },
  {
   "cell_type": "markdown",
   "metadata": {},
   "source": [
    "### Explore Prices Across Different Variables"
   ]
  },
  {
   "cell_type": "code",
   "execution_count": 20,
   "metadata": {},
   "outputs": [
    {
     "data": {
      "text/plain": [
       "<AxesSubplot:>"
      ]
     },
     "execution_count": 20,
     "metadata": {},
     "output_type": "execute_result"
    },
    {
     "data": {
      "image/png": "[encoded data removed]",
      "text/plain": [
       "<Figure size 432x288 with 2 Axes>"
      ]
     },
     "metadata": {
      "needs_background": "light"
     },
     "output_type": "display_data"
    }
   ],
   "source": [
    "#correlation among numeric variables\n",
    "num_df = data[['AveragePrice', 'Total Volume', '4046', '4225', '4770',\n",
    "       'Total Bags', 'Small Bags', 'Large Bags', 'XLarge Bags']]\n",
    "sns.heatmap(num_df.corr())"
   ]
  },
  {
   "cell_type": "markdown",
   "metadata": {},
   "source": [
    "Almost zero correlations with average price columns, and high correlations among bags and volume columns"
   ]
  },
  {
   "cell_type": "code",
   "execution_count": 21,
   "metadata": {},
   "outputs": [],
   "source": [
    "#price across broad regions\n",
    "data_region =  data[data[\"region\"].apply(lambda x: x in [\"Midsouth\", \"Northeast\", \"SouthCentral\", \"Southeast\", \"West\"])]"
   ]
  },
  {
   "cell_type": "code",
   "execution_count": 22,
   "metadata": {},
   "outputs": [
    {
     "data": {
      "text/plain": [
       "<AxesSubplot:xlabel='region', ylabel='AveragePrice'>"
      ]
     },
     "execution_count": 22,
     "metadata": {},
     "output_type": "execute_result"
    },
    {
     "data": {
      "image/png": "[encoded data removed]",
      "text/plain": [
       "<Figure size 432x288 with 1 Axes>"
      ]
     },
     "metadata": {
      "needs_background": "light"
     },
     "output_type": "display_data"
    }
   ],
   "source": [
    "sns.boxplot(\"region\",\"AveragePrice\",data = data_region)"
   ]
  },
  {
   "cell_type": "code",
   "execution_count": 23,
   "metadata": {},
   "outputs": [
    {
     "data": {
      "text/plain": [
       "<AxesSubplot:xlabel='region', ylabel='Total Volume'>"
      ]
     },
     "execution_count": 23,
     "metadata": {},
     "output_type": "execute_result"
    },
    {
     "data": {
      "image/png": "[encoded data removed]",
      "text/plain": [
       "<Figure size 432x288 with 1 Axes>"
      ]
     },
     "metadata": {
      "needs_background": "light"
     },
     "output_type": "display_data"
    }
   ],
   "source": [
    "sns.boxplot(\"region\",\"Total Volume\",data = data_region)"
   ]
  },
  {
   "cell_type": "code",
   "execution_count": 24,
   "metadata": {},
   "outputs": [
    {
     "data": {
      "text/plain": [
       "<AxesSubplot:xlabel='region', ylabel='Total Bags'>"
      ]
     },
     "execution_count": 24,
     "metadata": {},
     "output_type": "execute_result"
    },
    {
     "data": {
      "image/png": "[encoded data removed]",
      "text/plain": [
       "<Figure size 432x288 with 1 Axes>"
      ]
     },
     "metadata": {
      "needs_background": "light"
     },
     "output_type": "display_data"
    }
   ],
   "source": [
    "sns.boxplot(\"region\",\"Total Bags\",data = data_region)"
   ]
  },
  {
   "cell_type": "markdown",
   "metadata": {},
   "source": [
    "Patterns in volume and bags across regions are very similar. For Northeast, it seems to have a higher volumne compared with its position in bags ranking, correponding to it having higher number of X-large bags compared to large and small bags."
   ]
  },
  {
   "cell_type": "code",
   "execution_count": 25,
   "metadata": {},
   "outputs": [
    {
     "data": {
      "text/plain": [
       "<AxesSubplot:xlabel='month', ylabel='AveragePrice'>"
      ]
     },
     "execution_count": 25,
     "metadata": {},
     "output_type": "execute_result"
    },
    {
     "data": {
      "image/png": "[encoded data removed]",
      "text/plain": [
       "<Figure size 1080x432 with 2 Axes>"
      ]
     },
     "metadata": {
      "needs_background": "light"
     },
     "output_type": "display_data"
    }
   ],
   "source": [
    "#price by quarters\n",
    "fig,ax = plt.subplots(nrows=1, ncols=2,figsize=(15,6))\n",
    "sns.boxplot(\"quarter\",\"AveragePrice\",data = data,hue=\"type\",ax=ax[0])\n",
    "sns.boxplot(\"month\",\"AveragePrice\",data = data,hue=\"type\",ax=ax[1])"
   ]
  },
  {
   "cell_type": "markdown",
   "metadata": {},
   "source": [
    "We can see that average price is the highest in quarter three, lowest in quarter 1. The patterns are same for bothe organic and conventional avocados."
   ]
  },
  {
   "cell_type": "markdown",
   "metadata": {},
   "source": [
    "## Modeling\n",
    "- Regression:\n",
    "    - Assume time points are independent, using other independent variables\n",
    "    - Use past time points as features\n",
    "- Time Series:\n",
    "    - SARIMA: two different models for two types\n",
    "    - VAR: using all related numeric columns"
   ]
  },
  {
   "cell_type": "code",
   "execution_count": 26,
   "metadata": {},
   "outputs": [],
   "source": [
    "#linear regression using other columns\n",
    "from sklearn.linear_model import LinearRegression"
   ]
  },
  {
   "cell_type": "code",
   "execution_count": 27,
   "metadata": {},
   "outputs": [],
   "source": [
    "#For date, lets try indicator for quarter only, use indices to model increase in time\n",
    "X = pd.get_dummies(data[[\"ind\",'Total Volume', '4046', '4225', '4770',\n",
    "       'Total Bags', 'Small Bags', 'Large Bags', 'XLarge Bags', 'type','region','quarter']],drop_first=True)\n",
    "y = data['AveragePrice']"
   ]
  },
  {
   "cell_type": "code",
   "execution_count": 28,
   "metadata": {},
   "outputs": [],
   "source": [
    "#in order of time\n",
    "X_train = X.iloc[:13000,:]\n",
    "X_test = X.iloc[13000:,:]\n",
    "y_train = data['AveragePrice'].iloc[:13000]\n",
    "y_test = data['AveragePrice'].iloc[13000:]"
   ]
  },
  {
   "cell_type": "code",
   "execution_count": 29,
   "metadata": {},
   "outputs": [],
   "source": [
    "X_train, X_test, y_train, y_test = train_test_split(X, y, test_size=0.2,random_state=42)"
   ]
  },
  {
   "cell_type": "code",
   "execution_count": 30,
   "metadata": {},
   "outputs": [
    {
     "data": {
      "text/plain": [
       "0.6000824875272541"
      ]
     },
     "execution_count": 30,
     "metadata": {},
     "output_type": "execute_result"
    }
   ],
   "source": [
    "lr = LinearRegression()\n",
    "lr.fit(X_train, y_train)\n",
    "lr.score(X_test,y_test)"
   ]
  },
  {
   "cell_type": "code",
   "execution_count": 31,
   "metadata": {},
   "outputs": [
    {
     "data": {
      "text/plain": [
       "<matplotlib.collections.PathCollection at 0x12b812550>"
      ]
     },
     "execution_count": 31,
     "metadata": {},
     "output_type": "execute_result"
    },
    {
     "data": {
      "image/png": "[encoded data removed]",
      "text/plain": [
       "<Figure size 432x288 with 1 Axes>"
      ]
     },
     "metadata": {
      "needs_background": "light"
     },
     "output_type": "display_data"
    }
   ],
   "source": [
    "plt.scatter(lr.predict(X_test),y_test)"
   ]
  },
  {
   "cell_type": "markdown",
   "metadata": {},
   "source": [
    "R squared is ok, but an issue here is that the split is  random, which is not a good practice for time series since order usually matters."
   ]
  },
  {
   "cell_type": "markdown",
   "metadata": {},
   "source": [
    "### ARIMA\n",
    "- Since there are multiple points per date, I aggregate those rows belonging the the same type.\n",
    "- It might be worth to further explore series within different regions, but for this notebook, I study the overall avergae prices."
   ]
  },
  {
   "cell_type": "code",
   "execution_count": 62,
   "metadata": {},
   "outputs": [],
   "source": [
    "conventional = data[data[\"type\"]==\"conventional\"].groupby(\"Date\")[\"AveragePrice\"].mean()\n",
    "organic = data[data[\"type\"]==\"organic\"].groupby(\"Date\")[\"AveragePrice\"].mean()"
   ]
  },
  {
   "cell_type": "code",
   "execution_count": 63,
   "metadata": {},
   "outputs": [
    {
     "data": {
      "text/plain": [
       "Date\n",
       "2015-01-04    1.009630\n",
       "2015-01-11    1.111296\n",
       "2015-01-18    1.133519\n",
       "2015-01-25    1.115370\n",
       "2015-02-01    0.962037\n",
       "                ...   \n",
       "2018-02-25    1.141111\n",
       "2018-03-04    1.142407\n",
       "2018-03-11    1.136667\n",
       "2018-03-18    1.096296\n",
       "2018-03-25    1.147222\n",
       "Name: AveragePrice, Length: 169, dtype: float64"
      ]
     },
     "execution_count": 63,
     "metadata": {},
     "output_type": "execute_result"
    }
   ],
   "source": [
    "conventional"
   ]
  },
  {
   "cell_type": "code",
   "execution_count": 64,
   "metadata": {},
   "outputs": [
    {
     "data": {
      "image/png": "[encoded data removed]",
      "text/plain": [
       "<Figure size 432x288 with 1 Axes>"
      ]
     },
     "metadata": {
      "needs_background": "light"
     },
     "output_type": "display_data"
    }
   ],
   "source": [
    "#check acf of prices time series\n",
    "from statsmodels.graphics.tsaplots import plot_acf\n",
    "from statsmodels.graphics.tsaplots import plot_pacf\n",
    "a = plot_acf(conventional)"
   ]
  },
  {
   "cell_type": "markdown",
   "metadata": {},
   "source": [
    "There is an exponentially decreasing trend in acf of conventional avocado, indicating an autoregressive component in the price time series."
   ]
  },
  {
   "cell_type": "code",
   "execution_count": 65,
   "metadata": {},
   "outputs": [
    {
     "data": {
      "image/png": "[encoded data removed]",
      "text/plain": [
       "<Figure size 432x288 with 1 Axes>"
      ]
     },
     "metadata": {
      "needs_background": "light"
     },
     "output_type": "display_data"
    }
   ],
   "source": [
    "a = plot_pacf(conventional)"
   ]
  },
  {
   "cell_type": "markdown",
   "metadata": {},
   "source": [
    "Pacf plot shows that there is an autoregressive component around three lags, there might be a seaonality as shown the small ups and downs of the plot."
   ]
  },
  {
   "cell_type": "code",
   "execution_count": 66,
   "metadata": {},
   "outputs": [
    {
     "data": {
      "image/png": "[encoded data removed]",
      "text/plain": [
       "<Figure size 432x288 with 1 Axes>"
      ]
     },
     "metadata": {
      "needs_background": "light"
     },
     "output_type": "display_data"
    }
   ],
   "source": [
    "a = plot_acf(organic)"
   ]
  },
  {
   "cell_type": "code",
   "execution_count": 67,
   "metadata": {},
   "outputs": [
    {
     "data": {
      "image/png": "[encoded data removed]",
      "text/plain": [
       "<Figure size 432x288 with 1 Axes>"
      ]
     },
     "metadata": {
      "needs_background": "light"
     },
     "output_type": "display_data"
    }
   ],
   "source": [
    "a = plot_pacf(organic)"
   ]
  },
  {
   "cell_type": "markdown",
   "metadata": {},
   "source": [
    "There seems to be an autoregressive component with 4 lags"
   ]
  },
  {
   "cell_type": "code",
   "execution_count": 68,
   "metadata": {},
   "outputs": [],
   "source": [
    "from pmdarima import auto_arima"
   ]
  },
  {
   "cell_type": "code",
   "execution_count": 69,
   "metadata": {},
   "outputs": [
    {
     "data": {
      "text/plain": [
       "ARIMA(order=(2, 1, 1), scoring_args={}, suppress_warnings=True,\n",
       "      with_intercept=False)"
      ]
     },
     "execution_count": 69,
     "metadata": {},
     "output_type": "execute_result"
    }
   ],
   "source": [
    "auto_arima(conventional) #as reflected in the pacf plot, there is an AR(3) component"
   ]
  },
  {
   "cell_type": "code",
   "execution_count": 70,
   "metadata": {},
   "outputs": [
    {
     "data": {
      "text/plain": [
       "ARIMA(order=(1, 0, 0), scoring_args={}, suppress_warnings=True)"
      ]
     },
     "execution_count": 70,
     "metadata": {},
     "output_type": "execute_result"
    }
   ],
   "source": [
    "auto_arima(organic) #there is a MA component"
   ]
  },
  {
   "cell_type": "code",
   "execution_count": 41,
   "metadata": {},
   "outputs": [],
   "source": [
    "#ARIMA model: focus on daily average since multiple rows for one day \n",
    "from statsmodels.tsa.api import ARIMA\n",
    "from statsmodels.tools.eval_measures import rmse, aic"
   ]
  },
  {
   "cell_type": "code",
   "execution_count": 74,
   "metadata": {},
   "outputs": [],
   "source": [
    "c_len = len(conventional)\n",
    "c_train = conventional.iloc[:round(c_len *0.8)]\n",
    "c_test = conventional.iloc[round(c_len *0.8):]"
   ]
  },
  {
   "cell_type": "code",
   "execution_count": 75,
   "metadata": {},
   "outputs": [],
   "source": [
    "c_mod = auto_arima(conventional)"
   ]
  },
  {
   "cell_type": "code",
   "execution_count": 76,
   "metadata": {},
   "outputs": [
    {
     "data": {
      "text/plain": [
       "ARIMA(order=(2, 1, 1), scoring_args={}, suppress_warnings=True,\n",
       "      with_intercept=False)"
      ]
     },
     "execution_count": 76,
     "metadata": {},
     "output_type": "execute_result"
    }
   ],
   "source": [
    "c_mod"
   ]
  },
  {
   "cell_type": "code",
   "execution_count": 77,
   "metadata": {},
   "outputs": [],
   "source": [
    "c_preds = c_mod.predict(n_periods = len(c_test))"
   ]
  },
  {
   "cell_type": "code",
   "execution_count": 78,
   "metadata": {},
   "outputs": [
    {
     "data": {
      "text/plain": [
       "array([1.16051496, 1.13762933, 1.15706856, 1.14284904, 1.15271687,\n",
       "       1.14601316, 1.15052624, 1.1474999 , 1.14952577, 1.14817066,\n",
       "       1.14907679, 1.14847097, 1.14887598, 1.14860523, 1.14878623,\n",
       "       1.14866523, 1.14874611, 1.14869204, 1.14872819, 1.14870403,\n",
       "       1.14872018, 1.14870938, 1.1487166 , 1.14871177, 1.148715  ,\n",
       "       1.14871284, 1.14871428, 1.14871332, 1.14871397, 1.14871353,\n",
       "       1.14871382, 1.14871363, 1.14871376, 1.14871367])"
      ]
     },
     "execution_count": 78,
     "metadata": {},
     "output_type": "execute_result"
    }
   ],
   "source": [
    "c_preds"
   ]
  },
  {
   "cell_type": "code",
   "execution_count": 79,
   "metadata": {},
   "outputs": [
    {
     "data": {
      "text/plain": [
       "0.2651789835176592"
      ]
     },
     "execution_count": 79,
     "metadata": {},
     "output_type": "execute_result"
    }
   ],
   "source": [
    "rmse(c_preds,c_test)"
   ]
  },
  {
   "cell_type": "code",
   "execution_count": 80,
   "metadata": {},
   "outputs": [],
   "source": [
    "c_data = data[data[\"type\"]==\"conventional\"]"
   ]
  },
  {
   "cell_type": "code",
   "execution_count": 83,
   "metadata": {},
   "outputs": [
    {
     "data": {
      "text/plain": [
       "<AxesSubplot:xlabel='Date', ylabel='AveragePrice'>"
      ]
     },
     "execution_count": 83,
     "metadata": {},
     "output_type": "execute_result"
    },
    {
     "data": {
      "image/png": "[encoded data removed]",
      "text/plain": [
       "<Figure size 720x360 with 1 Axes>"
      ]
     },
     "metadata": {
      "needs_background": "light"
     },
     "output_type": "display_data"
    }
   ],
   "source": [
    "plt.figure(figsize=(10,5))\n",
    "sns.lineplot(conventional.index,conventional)\n",
    "sns.lineplot(conventional.index[round(c_len *0.8):],c_preds)"
   ]
  },
  {
   "cell_type": "markdown",
   "metadata": {},
   "source": [
    "The performance of ARIMA is limited, therefore, it might be worth to explore SARIMA and include a component of seasonality."
   ]
  },
  {
   "cell_type": "code",
   "execution_count": null,
   "metadata": {},
   "outputs": [],
   "source": []
  }
 ],
 "metadata": {
  "kernelspec": {
   "display_name": "Python 3",
   "language": "python",
   "name": "python3"
  },
  "language_info": {
   "codemirror_mode": {
    "name": "ipython",
    "version": 3
   },
   "file_extension": ".py",
   "mimetype": "text/x-python",
   "name": "python",
   "nbconvert_exporter": "python",
   "pygments_lexer": "ipython3",
   "version": "3.7.4"
  }
 },
 "nbformat": 4,
 "nbformat_minor": 2
}
